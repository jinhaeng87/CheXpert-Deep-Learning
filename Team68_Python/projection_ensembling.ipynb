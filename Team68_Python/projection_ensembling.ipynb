{
 "cells": [
  {
   "cell_type": "markdown",
   "metadata": {},
   "source": [
    "# Experimenting with Projection Ensembles"
   ]
  },
  {
   "cell_type": "markdown",
   "metadata": {},
   "source": [
    "#### Imports"
   ]
  },
  {
   "cell_type": "code",
   "execution_count": 1,
   "metadata": {},
   "outputs": [],
   "source": [
    "%load_ext autoreload\n",
    "%autoreload 2"
   ]
  },
  {
   "cell_type": "code",
   "execution_count": 2,
   "metadata": {},
   "outputs": [
    {
     "name": "stderr",
     "output_type": "stream",
     "text": [
      "C:\\Users\\Rygu\\Anaconda3\\envs\\mldl\\lib\\site-packages\\dask\\config.py:161: YAMLLoadWarning: calling yaml.load() without Loader=... is deprecated, as the default Loader is unsafe. Please read https://msg.pyyaml.org/load for full details.\n",
      "  data = yaml.load(f.read()) or {}\n"
     ]
    }
   ],
   "source": [
    "import numpy as np\n",
    "import pandas as pd\n",
    "import matplotlib.pyplot as plt\n",
    "from sklearn.metrics import roc_auc_score\n",
    "import torch\n",
    "import torch.nn as nn\n",
    "import torch.optim as optim\n",
    "from tqdm.notebook import tqdm\n",
    "from chex.inference import \n",
    "\n",
    "from chex import config as C\n",
    "from chex.dataaug import get_transforms\n",
    "from chex.dataload import CheXDataset, subset_dloader, get_dloaders, get_pdloaders\n",
    "from chex.etl import proc_df, make_df_merged\n",
    "from chex.inference import validation_ensemble, ensemble, predict_loader, pseudo_ensemble, load_predict\n",
    "from chex.metrics import classwise_rocauc\n",
    "from chex.modeling import CheXModel\n",
    "from chex.plotting import show_batch, plot_learning_curves\n",
    "from chex.saving import save_history, save_trained, load_trained, make_desc\n",
    "from chex.training import Trainer, make_trainer\n",
    "from chex.utils import seed_everything, recurse_children"
   ]
  },
  {
   "cell_type": "markdown",
   "metadata": {},
   "source": [
    "#### Global Setup"
   ]
  },
  {
   "cell_type": "code",
   "execution_count": 3,
   "metadata": {},
   "outputs": [],
   "source": [
    "USE_CUDA = True\n",
    "ON_AWS = False#True\n",
    "NUM_WORKERS = 4 if ON_AWS else 0\n",
    "\n",
    "DEVICE = torch.device('cuda' if torch.cuda.is_available() and USE_CUDA else 'cpu')\n",
    "C.set_config(USE_CUDA=USE_CUDA, ON_AWS=ON_AWS, NUM_WORKERS=NUM_WORKERS, DEVICE=DEVICE)"
   ]
  },
  {
   "cell_type": "code",
   "execution_count": 4,
   "metadata": {},
   "outputs": [],
   "source": [
    "torch.backends.cudnn.benchmark = True\n",
    "torch.backends.cudnn.enabled = True"
   ]
  },
  {
   "cell_type": "markdown",
   "metadata": {},
   "source": [
    "## Data"
   ]
  },
  {
   "cell_type": "code",
   "execution_count": 5,
   "metadata": {},
   "outputs": [],
   "source": [
    "df_master = pd.read_csv(C.DATA_PATH/'Team68_CheXpert_Full.csv').set_index('CheX_Image_ID')\n",
    "df_psample = pd.read_csv(C.DATA_PATH/'Team68_Sample_001.csv').rename({'chex_image_id':'CheX_Image_ID'},axis=1).set_index('CheX_Image_ID')"
   ]
  },
  {
   "cell_type": "code",
   "execution_count": 6,
   "metadata": {
    "scrolled": true
   },
   "outputs": [
    {
     "data": {
      "text/html": [
       "<div>\n",
       "<style scoped>\n",
       "    .dataframe tbody tr th:only-of-type {\n",
       "        vertical-align: middle;\n",
       "    }\n",
       "\n",
       "    .dataframe tbody tr th {\n",
       "        vertical-align: top;\n",
       "    }\n",
       "\n",
       "    .dataframe thead th {\n",
       "        text-align: right;\n",
       "    }\n",
       "</style>\n",
       "<table border=\"1\" class=\"dataframe\">\n",
       "  <thead>\n",
       "    <tr style=\"text-align: right;\">\n",
       "      <th></th>\n",
       "      <th>Dataset_ID</th>\n",
       "      <th>patient_id</th>\n",
       "      <th>gender</th>\n",
       "      <th>study</th>\n",
       "      <th>view_num</th>\n",
       "      <th>age_num</th>\n",
       "      <th>ap_pa_ll</th>\n",
       "      <th>Path</th>\n",
       "      <th>No_Finding</th>\n",
       "      <th>Enlarged_Cardiomediastinum</th>\n",
       "      <th>...</th>\n",
       "      <th>Lung_Lesion</th>\n",
       "      <th>Edema</th>\n",
       "      <th>Consolidation</th>\n",
       "      <th>Pneumonia</th>\n",
       "      <th>Atelectasis</th>\n",
       "      <th>Pneumothorax</th>\n",
       "      <th>Pleural_Effusion</th>\n",
       "      <th>Pleural_Other</th>\n",
       "      <th>Fracture</th>\n",
       "      <th>Support_Devices</th>\n",
       "    </tr>\n",
       "    <tr>\n",
       "      <th>CheX_Image_ID</th>\n",
       "      <th></th>\n",
       "      <th></th>\n",
       "      <th></th>\n",
       "      <th></th>\n",
       "      <th></th>\n",
       "      <th></th>\n",
       "      <th></th>\n",
       "      <th></th>\n",
       "      <th></th>\n",
       "      <th></th>\n",
       "      <th></th>\n",
       "      <th></th>\n",
       "      <th></th>\n",
       "      <th></th>\n",
       "      <th></th>\n",
       "      <th></th>\n",
       "      <th></th>\n",
       "      <th></th>\n",
       "      <th></th>\n",
       "      <th></th>\n",
       "      <th></th>\n",
       "    </tr>\n",
       "  </thead>\n",
       "  <tbody>\n",
       "    <tr>\n",
       "      <th>162</th>\n",
       "      <td>1</td>\n",
       "      <td>56</td>\n",
       "      <td>M</td>\n",
       "      <td>1</td>\n",
       "      <td>1</td>\n",
       "      <td>88</td>\n",
       "      <td>AP</td>\n",
       "      <td>CheXpert-v1.0-small/train/patient00056/study1/...</td>\n",
       "      <td>NaN</td>\n",
       "      <td>NaN</td>\n",
       "      <td>...</td>\n",
       "      <td>NaN</td>\n",
       "      <td>NaN</td>\n",
       "      <td>0.0</td>\n",
       "      <td>NaN</td>\n",
       "      <td>1.0</td>\n",
       "      <td>NaN</td>\n",
       "      <td>0.0</td>\n",
       "      <td>NaN</td>\n",
       "      <td>NaN</td>\n",
       "      <td>NaN</td>\n",
       "    </tr>\n",
       "    <tr>\n",
       "      <th>589</th>\n",
       "      <td>1</td>\n",
       "      <td>146</td>\n",
       "      <td>F</td>\n",
       "      <td>24</td>\n",
       "      <td>1</td>\n",
       "      <td>74</td>\n",
       "      <td>AP</td>\n",
       "      <td>CheXpert-v1.0-small/train/patient00146/study24...</td>\n",
       "      <td>NaN</td>\n",
       "      <td>NaN</td>\n",
       "      <td>...</td>\n",
       "      <td>NaN</td>\n",
       "      <td>1.0</td>\n",
       "      <td>-1.0</td>\n",
       "      <td>NaN</td>\n",
       "      <td>-1.0</td>\n",
       "      <td>NaN</td>\n",
       "      <td>1.0</td>\n",
       "      <td>NaN</td>\n",
       "      <td>NaN</td>\n",
       "      <td>1.0</td>\n",
       "    </tr>\n",
       "    <tr>\n",
       "      <th>791</th>\n",
       "      <td>1</td>\n",
       "      <td>201</td>\n",
       "      <td>M</td>\n",
       "      <td>2</td>\n",
       "      <td>2</td>\n",
       "      <td>46</td>\n",
       "      <td>LL</td>\n",
       "      <td>CheXpert-v1.0-small/train/patient00201/study2/...</td>\n",
       "      <td>NaN</td>\n",
       "      <td>-1.0</td>\n",
       "      <td>...</td>\n",
       "      <td>NaN</td>\n",
       "      <td>-1.0</td>\n",
       "      <td>NaN</td>\n",
       "      <td>-1.0</td>\n",
       "      <td>NaN</td>\n",
       "      <td>NaN</td>\n",
       "      <td>NaN</td>\n",
       "      <td>NaN</td>\n",
       "      <td>NaN</td>\n",
       "      <td>NaN</td>\n",
       "    </tr>\n",
       "    <tr>\n",
       "      <th>825</th>\n",
       "      <td>1</td>\n",
       "      <td>207</td>\n",
       "      <td>M</td>\n",
       "      <td>1</td>\n",
       "      <td>1</td>\n",
       "      <td>36</td>\n",
       "      <td>AP</td>\n",
       "      <td>CheXpert-v1.0-small/train/patient00207/study1/...</td>\n",
       "      <td>NaN</td>\n",
       "      <td>0.0</td>\n",
       "      <td>...</td>\n",
       "      <td>NaN</td>\n",
       "      <td>NaN</td>\n",
       "      <td>0.0</td>\n",
       "      <td>NaN</td>\n",
       "      <td>NaN</td>\n",
       "      <td>0.0</td>\n",
       "      <td>NaN</td>\n",
       "      <td>NaN</td>\n",
       "      <td>NaN</td>\n",
       "      <td>NaN</td>\n",
       "    </tr>\n",
       "    <tr>\n",
       "      <th>826</th>\n",
       "      <td>1</td>\n",
       "      <td>208</td>\n",
       "      <td>M</td>\n",
       "      <td>1</td>\n",
       "      <td>1</td>\n",
       "      <td>68</td>\n",
       "      <td>AP</td>\n",
       "      <td>CheXpert-v1.0-small/train/patient00208/study1/...</td>\n",
       "      <td>NaN</td>\n",
       "      <td>1.0</td>\n",
       "      <td>...</td>\n",
       "      <td>NaN</td>\n",
       "      <td>NaN</td>\n",
       "      <td>NaN</td>\n",
       "      <td>NaN</td>\n",
       "      <td>1.0</td>\n",
       "      <td>0.0</td>\n",
       "      <td>NaN</td>\n",
       "      <td>NaN</td>\n",
       "      <td>NaN</td>\n",
       "      <td>1.0</td>\n",
       "    </tr>\n",
       "  </tbody>\n",
       "</table>\n",
       "<p>5 rows × 22 columns</p>\n",
       "</div>"
      ],
      "text/plain": [
       "               Dataset_ID  patient_id gender  study  view_num  age_num  \\\n",
       "CheX_Image_ID                                                            \n",
       "162                     1          56      M      1         1       88   \n",
       "589                     1         146      F     24         1       74   \n",
       "791                     1         201      M      2         2       46   \n",
       "825                     1         207      M      1         1       36   \n",
       "826                     1         208      M      1         1       68   \n",
       "\n",
       "              ap_pa_ll                                               Path  \\\n",
       "CheX_Image_ID                                                               \n",
       "162                 AP  CheXpert-v1.0-small/train/patient00056/study1/...   \n",
       "589                 AP  CheXpert-v1.0-small/train/patient00146/study24...   \n",
       "791                 LL  CheXpert-v1.0-small/train/patient00201/study2/...   \n",
       "825                 AP  CheXpert-v1.0-small/train/patient00207/study1/...   \n",
       "826                 AP  CheXpert-v1.0-small/train/patient00208/study1/...   \n",
       "\n",
       "               No_Finding  Enlarged_Cardiomediastinum  ...  Lung_Lesion  \\\n",
       "CheX_Image_ID                                          ...                \n",
       "162                   NaN                         NaN  ...          NaN   \n",
       "589                   NaN                         NaN  ...          NaN   \n",
       "791                   NaN                        -1.0  ...          NaN   \n",
       "825                   NaN                         0.0  ...          NaN   \n",
       "826                   NaN                         1.0  ...          NaN   \n",
       "\n",
       "               Edema  Consolidation  Pneumonia  Atelectasis  Pneumothorax  \\\n",
       "CheX_Image_ID                                                               \n",
       "162              NaN            0.0        NaN          1.0           NaN   \n",
       "589              1.0           -1.0        NaN         -1.0           NaN   \n",
       "791             -1.0            NaN       -1.0          NaN           NaN   \n",
       "825              NaN            0.0        NaN          NaN           0.0   \n",
       "826              NaN            NaN        NaN          1.0           0.0   \n",
       "\n",
       "               Pleural_Effusion  Pleural_Other  Fracture  Support_Devices  \n",
       "CheX_Image_ID                                                              \n",
       "162                         0.0            NaN       NaN              NaN  \n",
       "589                         1.0            NaN       NaN              1.0  \n",
       "791                         NaN            NaN       NaN              NaN  \n",
       "825                         NaN            NaN       NaN              NaN  \n",
       "826                         NaN            NaN       NaN              1.0  \n",
       "\n",
       "[5 rows x 22 columns]"
      ]
     },
     "execution_count": 6,
     "metadata": {},
     "output_type": "execute_result"
    }
   ],
   "source": [
    "df_master.head()"
   ]
  },
  {
   "cell_type": "code",
   "execution_count": 7,
   "metadata": {},
   "outputs": [
    {
     "data": {
      "text/html": [
       "<div>\n",
       "<style scoped>\n",
       "    .dataframe tbody tr th:only-of-type {\n",
       "        vertical-align: middle;\n",
       "    }\n",
       "\n",
       "    .dataframe tbody tr th {\n",
       "        vertical-align: top;\n",
       "    }\n",
       "\n",
       "    .dataframe thead th {\n",
       "        text-align: right;\n",
       "    }\n",
       "</style>\n",
       "<table border=\"1\" class=\"dataframe\">\n",
       "  <thead>\n",
       "    <tr style=\"text-align: right;\">\n",
       "      <th></th>\n",
       "      <th>Pop_ID</th>\n",
       "      <th>Posit_ID</th>\n",
       "    </tr>\n",
       "    <tr>\n",
       "      <th>CheX_Image_ID</th>\n",
       "      <th></th>\n",
       "      <th></th>\n",
       "    </tr>\n",
       "  </thead>\n",
       "  <tbody>\n",
       "    <tr>\n",
       "      <th>4</th>\n",
       "      <td>1</td>\n",
       "      <td>1</td>\n",
       "    </tr>\n",
       "    <tr>\n",
       "      <th>5</th>\n",
       "      <td>1</td>\n",
       "      <td>1</td>\n",
       "    </tr>\n",
       "    <tr>\n",
       "      <th>8</th>\n",
       "      <td>1</td>\n",
       "      <td>2</td>\n",
       "    </tr>\n",
       "    <tr>\n",
       "      <th>9</th>\n",
       "      <td>1</td>\n",
       "      <td>3</td>\n",
       "    </tr>\n",
       "    <tr>\n",
       "      <th>12</th>\n",
       "      <td>1</td>\n",
       "      <td>1</td>\n",
       "    </tr>\n",
       "  </tbody>\n",
       "</table>\n",
       "</div>"
      ],
      "text/plain": [
       "               Pop_ID  Posit_ID\n",
       "CheX_Image_ID                  \n",
       "4                   1         1\n",
       "5                   1         1\n",
       "8                   1         2\n",
       "9                   1         3\n",
       "12                  1         1"
      ]
     },
     "execution_count": 7,
     "metadata": {},
     "output_type": "execute_result"
    }
   ],
   "source": [
    "df_psample.head()"
   ]
  },
  {
   "cell_type": "markdown",
   "metadata": {},
   "source": [
    "### Full Dataset Processing"
   ]
  },
  {
   "cell_type": "code",
   "execution_count": 6,
   "metadata": {},
   "outputs": [],
   "source": [
    "df_pmaster = proc_df(df_master.assign(Pop_ID=df_master['Dataset_ID'], Posit_ID=df_master['ap_pa_ll'].map({'AP':1,'PA':2,'LL':3})))[[*df_psample.columns]+['Path']+C.TARGET_LABELS]\n",
    "df_full_train, df_full_valid = (df_pmaster[df_pmaster['Pop_ID'].eq(i)] for i in [1,2])\n",
    "test_loader_full = subset_dloader(df_full_valid, None, False, batch_size=256, print_tfms=False) "
   ]
  },
  {
   "cell_type": "code",
   "execution_count": 128,
   "metadata": {
    "scrolled": false
   },
   "outputs": [
    {
     "data": {
      "text/html": [
       "<div>\n",
       "<style scoped>\n",
       "    .dataframe tbody tr th:only-of-type {\n",
       "        vertical-align: middle;\n",
       "    }\n",
       "\n",
       "    .dataframe tbody tr th {\n",
       "        vertical-align: top;\n",
       "    }\n",
       "\n",
       "    .dataframe thead th {\n",
       "        text-align: right;\n",
       "    }\n",
       "</style>\n",
       "<table border=\"1\" class=\"dataframe\">\n",
       "  <thead>\n",
       "    <tr style=\"text-align: right;\">\n",
       "      <th></th>\n",
       "      <th>Pop_ID</th>\n",
       "      <th>Posit_ID</th>\n",
       "      <th>Path</th>\n",
       "      <th>No_Finding</th>\n",
       "      <th>Enlarged_Cardiomediastinum</th>\n",
       "      <th>Cardiomegaly</th>\n",
       "      <th>Lung_Opacity</th>\n",
       "      <th>Lung_Lesion</th>\n",
       "      <th>Edema</th>\n",
       "      <th>Consolidation</th>\n",
       "      <th>Pneumonia</th>\n",
       "      <th>Atelectasis</th>\n",
       "      <th>Pneumothorax</th>\n",
       "      <th>Pleural_Effusion</th>\n",
       "      <th>Pleural_Other</th>\n",
       "      <th>Fracture</th>\n",
       "      <th>Support_Devices</th>\n",
       "    </tr>\n",
       "    <tr>\n",
       "      <th>CheX_Image_ID</th>\n",
       "      <th></th>\n",
       "      <th></th>\n",
       "      <th></th>\n",
       "      <th></th>\n",
       "      <th></th>\n",
       "      <th></th>\n",
       "      <th></th>\n",
       "      <th></th>\n",
       "      <th></th>\n",
       "      <th></th>\n",
       "      <th></th>\n",
       "      <th></th>\n",
       "      <th></th>\n",
       "      <th></th>\n",
       "      <th></th>\n",
       "      <th></th>\n",
       "      <th></th>\n",
       "    </tr>\n",
       "  </thead>\n",
       "  <tbody>\n",
       "    <tr>\n",
       "      <th>4</th>\n",
       "      <td>1</td>\n",
       "      <td>1</td>\n",
       "      <td>CheXpert-v1.0-small/train/patient00002/study2/...</td>\n",
       "      <td>0.0</td>\n",
       "      <td>0.0</td>\n",
       "      <td>0.567301</td>\n",
       "      <td>1.0</td>\n",
       "      <td>0.0</td>\n",
       "      <td>0.766516</td>\n",
       "      <td>0.683054</td>\n",
       "      <td>0.0</td>\n",
       "      <td>0.787481</td>\n",
       "      <td>0.0</td>\n",
       "      <td>0.67105</td>\n",
       "      <td>0.0</td>\n",
       "      <td>1.0</td>\n",
       "      <td>0.0</td>\n",
       "    </tr>\n",
       "    <tr>\n",
       "      <th>5</th>\n",
       "      <td>1</td>\n",
       "      <td>1</td>\n",
       "      <td>CheXpert-v1.0-small/train/patient00003/study1/...</td>\n",
       "      <td>0.0</td>\n",
       "      <td>0.0</td>\n",
       "      <td>0.000000</td>\n",
       "      <td>0.0</td>\n",
       "      <td>0.0</td>\n",
       "      <td>1.000000</td>\n",
       "      <td>0.000000</td>\n",
       "      <td>0.0</td>\n",
       "      <td>0.000000</td>\n",
       "      <td>0.0</td>\n",
       "      <td>0.00000</td>\n",
       "      <td>0.0</td>\n",
       "      <td>0.0</td>\n",
       "      <td>0.0</td>\n",
       "    </tr>\n",
       "    <tr>\n",
       "      <th>8</th>\n",
       "      <td>1</td>\n",
       "      <td>2</td>\n",
       "      <td>CheXpert-v1.0-small/train/patient00005/study1/...</td>\n",
       "      <td>1.0</td>\n",
       "      <td>0.0</td>\n",
       "      <td>0.000000</td>\n",
       "      <td>0.0</td>\n",
       "      <td>0.0</td>\n",
       "      <td>0.000000</td>\n",
       "      <td>0.000000</td>\n",
       "      <td>0.0</td>\n",
       "      <td>0.000000</td>\n",
       "      <td>0.0</td>\n",
       "      <td>0.00000</td>\n",
       "      <td>0.0</td>\n",
       "      <td>0.0</td>\n",
       "      <td>1.0</td>\n",
       "    </tr>\n",
       "    <tr>\n",
       "      <th>9</th>\n",
       "      <td>1</td>\n",
       "      <td>3</td>\n",
       "      <td>CheXpert-v1.0-small/train/patient00005/study1/...</td>\n",
       "      <td>1.0</td>\n",
       "      <td>0.0</td>\n",
       "      <td>0.000000</td>\n",
       "      <td>0.0</td>\n",
       "      <td>0.0</td>\n",
       "      <td>0.000000</td>\n",
       "      <td>0.000000</td>\n",
       "      <td>0.0</td>\n",
       "      <td>0.000000</td>\n",
       "      <td>0.0</td>\n",
       "      <td>0.00000</td>\n",
       "      <td>0.0</td>\n",
       "      <td>0.0</td>\n",
       "      <td>1.0</td>\n",
       "    </tr>\n",
       "    <tr>\n",
       "      <th>12</th>\n",
       "      <td>1</td>\n",
       "      <td>1</td>\n",
       "      <td>CheXpert-v1.0-small/train/patient00006/study1/...</td>\n",
       "      <td>1.0</td>\n",
       "      <td>0.0</td>\n",
       "      <td>0.000000</td>\n",
       "      <td>0.0</td>\n",
       "      <td>0.0</td>\n",
       "      <td>0.000000</td>\n",
       "      <td>0.000000</td>\n",
       "      <td>0.0</td>\n",
       "      <td>0.000000</td>\n",
       "      <td>0.0</td>\n",
       "      <td>0.00000</td>\n",
       "      <td>0.0</td>\n",
       "      <td>0.0</td>\n",
       "      <td>0.0</td>\n",
       "    </tr>\n",
       "    <tr>\n",
       "      <th>...</th>\n",
       "      <td>...</td>\n",
       "      <td>...</td>\n",
       "      <td>...</td>\n",
       "      <td>...</td>\n",
       "      <td>...</td>\n",
       "      <td>...</td>\n",
       "      <td>...</td>\n",
       "      <td>...</td>\n",
       "      <td>...</td>\n",
       "      <td>...</td>\n",
       "      <td>...</td>\n",
       "      <td>...</td>\n",
       "      <td>...</td>\n",
       "      <td>...</td>\n",
       "      <td>...</td>\n",
       "      <td>...</td>\n",
       "      <td>...</td>\n",
       "    </tr>\n",
       "    <tr>\n",
       "      <th>221577</th>\n",
       "      <td>3</td>\n",
       "      <td>3</td>\n",
       "      <td>CheXpert-v1.0-small/valid/patient64625/study1/...</td>\n",
       "      <td>1.0</td>\n",
       "      <td>0.0</td>\n",
       "      <td>0.000000</td>\n",
       "      <td>0.0</td>\n",
       "      <td>0.0</td>\n",
       "      <td>0.000000</td>\n",
       "      <td>0.000000</td>\n",
       "      <td>0.0</td>\n",
       "      <td>0.000000</td>\n",
       "      <td>0.0</td>\n",
       "      <td>0.00000</td>\n",
       "      <td>0.0</td>\n",
       "      <td>0.0</td>\n",
       "      <td>0.0</td>\n",
       "    </tr>\n",
       "    <tr>\n",
       "      <th>221657</th>\n",
       "      <td>3</td>\n",
       "      <td>1</td>\n",
       "      <td>CheXpert-v1.0-small/valid/patient64703/study1/...</td>\n",
       "      <td>0.0</td>\n",
       "      <td>0.0</td>\n",
       "      <td>0.000000</td>\n",
       "      <td>1.0</td>\n",
       "      <td>0.0</td>\n",
       "      <td>0.000000</td>\n",
       "      <td>1.000000</td>\n",
       "      <td>0.0</td>\n",
       "      <td>1.000000</td>\n",
       "      <td>0.0</td>\n",
       "      <td>1.00000</td>\n",
       "      <td>0.0</td>\n",
       "      <td>0.0</td>\n",
       "      <td>1.0</td>\n",
       "    </tr>\n",
       "    <tr>\n",
       "      <th>221574</th>\n",
       "      <td>3</td>\n",
       "      <td>1</td>\n",
       "      <td>CheXpert-v1.0-small/valid/patient64623/study1/...</td>\n",
       "      <td>0.0</td>\n",
       "      <td>1.0</td>\n",
       "      <td>1.000000</td>\n",
       "      <td>1.0</td>\n",
       "      <td>0.0</td>\n",
       "      <td>1.000000</td>\n",
       "      <td>1.000000</td>\n",
       "      <td>0.0</td>\n",
       "      <td>1.000000</td>\n",
       "      <td>0.0</td>\n",
       "      <td>1.00000</td>\n",
       "      <td>0.0</td>\n",
       "      <td>0.0</td>\n",
       "      <td>1.0</td>\n",
       "    </tr>\n",
       "    <tr>\n",
       "      <th>221652</th>\n",
       "      <td>3</td>\n",
       "      <td>1</td>\n",
       "      <td>CheXpert-v1.0-small/valid/patient64698/study1/...</td>\n",
       "      <td>0.0</td>\n",
       "      <td>1.0</td>\n",
       "      <td>1.000000</td>\n",
       "      <td>1.0</td>\n",
       "      <td>0.0</td>\n",
       "      <td>1.000000</td>\n",
       "      <td>0.000000</td>\n",
       "      <td>0.0</td>\n",
       "      <td>0.000000</td>\n",
       "      <td>0.0</td>\n",
       "      <td>0.00000</td>\n",
       "      <td>0.0</td>\n",
       "      <td>0.0</td>\n",
       "      <td>0.0</td>\n",
       "    </tr>\n",
       "    <tr>\n",
       "      <th>221672</th>\n",
       "      <td>3</td>\n",
       "      <td>1</td>\n",
       "      <td>CheXpert-v1.0-small/valid/patient64717/study1/...</td>\n",
       "      <td>0.0</td>\n",
       "      <td>1.0</td>\n",
       "      <td>1.000000</td>\n",
       "      <td>1.0</td>\n",
       "      <td>0.0</td>\n",
       "      <td>1.000000</td>\n",
       "      <td>1.000000</td>\n",
       "      <td>0.0</td>\n",
       "      <td>1.000000</td>\n",
       "      <td>0.0</td>\n",
       "      <td>0.00000</td>\n",
       "      <td>0.0</td>\n",
       "      <td>0.0</td>\n",
       "      <td>1.0</td>\n",
       "    </tr>\n",
       "  </tbody>\n",
       "</table>\n",
       "<p>143073 rows × 17 columns</p>\n",
       "</div>"
      ],
      "text/plain": [
       "               Pop_ID  Posit_ID  \\\n",
       "CheX_Image_ID                     \n",
       "4                   1         1   \n",
       "5                   1         1   \n",
       "8                   1         2   \n",
       "9                   1         3   \n",
       "12                  1         1   \n",
       "...               ...       ...   \n",
       "221577              3         3   \n",
       "221657              3         1   \n",
       "221574              3         1   \n",
       "221652              3         1   \n",
       "221672              3         1   \n",
       "\n",
       "                                                            Path  No_Finding  \\\n",
       "CheX_Image_ID                                                                  \n",
       "4              CheXpert-v1.0-small/train/patient00002/study2/...         0.0   \n",
       "5              CheXpert-v1.0-small/train/patient00003/study1/...         0.0   \n",
       "8              CheXpert-v1.0-small/train/patient00005/study1/...         1.0   \n",
       "9              CheXpert-v1.0-small/train/patient00005/study1/...         1.0   \n",
       "12             CheXpert-v1.0-small/train/patient00006/study1/...         1.0   \n",
       "...                                                          ...         ...   \n",
       "221577         CheXpert-v1.0-small/valid/patient64625/study1/...         1.0   \n",
       "221657         CheXpert-v1.0-small/valid/patient64703/study1/...         0.0   \n",
       "221574         CheXpert-v1.0-small/valid/patient64623/study1/...         0.0   \n",
       "221652         CheXpert-v1.0-small/valid/patient64698/study1/...         0.0   \n",
       "221672         CheXpert-v1.0-small/valid/patient64717/study1/...         0.0   \n",
       "\n",
       "               Enlarged_Cardiomediastinum  Cardiomegaly  Lung_Opacity  \\\n",
       "CheX_Image_ID                                                           \n",
       "4                                     0.0      0.567301           1.0   \n",
       "5                                     0.0      0.000000           0.0   \n",
       "8                                     0.0      0.000000           0.0   \n",
       "9                                     0.0      0.000000           0.0   \n",
       "12                                    0.0      0.000000           0.0   \n",
       "...                                   ...           ...           ...   \n",
       "221577                                0.0      0.000000           0.0   \n",
       "221657                                0.0      0.000000           1.0   \n",
       "221574                                1.0      1.000000           1.0   \n",
       "221652                                1.0      1.000000           1.0   \n",
       "221672                                1.0      1.000000           1.0   \n",
       "\n",
       "               Lung_Lesion     Edema  Consolidation  Pneumonia  Atelectasis  \\\n",
       "CheX_Image_ID                                                                 \n",
       "4                      0.0  0.766516       0.683054        0.0     0.787481   \n",
       "5                      0.0  1.000000       0.000000        0.0     0.000000   \n",
       "8                      0.0  0.000000       0.000000        0.0     0.000000   \n",
       "9                      0.0  0.000000       0.000000        0.0     0.000000   \n",
       "12                     0.0  0.000000       0.000000        0.0     0.000000   \n",
       "...                    ...       ...            ...        ...          ...   \n",
       "221577                 0.0  0.000000       0.000000        0.0     0.000000   \n",
       "221657                 0.0  0.000000       1.000000        0.0     1.000000   \n",
       "221574                 0.0  1.000000       1.000000        0.0     1.000000   \n",
       "221652                 0.0  1.000000       0.000000        0.0     0.000000   \n",
       "221672                 0.0  1.000000       1.000000        0.0     1.000000   \n",
       "\n",
       "               Pneumothorax  Pleural_Effusion  Pleural_Other  Fracture  \\\n",
       "CheX_Image_ID                                                            \n",
       "4                       0.0           0.67105            0.0       1.0   \n",
       "5                       0.0           0.00000            0.0       0.0   \n",
       "8                       0.0           0.00000            0.0       0.0   \n",
       "9                       0.0           0.00000            0.0       0.0   \n",
       "12                      0.0           0.00000            0.0       0.0   \n",
       "...                     ...               ...            ...       ...   \n",
       "221577                  0.0           0.00000            0.0       0.0   \n",
       "221657                  0.0           1.00000            0.0       0.0   \n",
       "221574                  0.0           1.00000            0.0       0.0   \n",
       "221652                  0.0           0.00000            0.0       0.0   \n",
       "221672                  0.0           0.00000            0.0       0.0   \n",
       "\n",
       "               Support_Devices  \n",
       "CheX_Image_ID                   \n",
       "4                          0.0  \n",
       "5                          0.0  \n",
       "8                          1.0  \n",
       "9                          1.0  \n",
       "12                         0.0  \n",
       "...                        ...  \n",
       "221577                     0.0  \n",
       "221657                     1.0  \n",
       "221574                     1.0  \n",
       "221652                     0.0  \n",
       "221672                     1.0  \n",
       "\n",
       "[143073 rows x 17 columns]"
      ]
     },
     "execution_count": 128,
     "metadata": {},
     "output_type": "execute_result"
    }
   ],
   "source": [
    "df_trnvaltst"
   ]
  },
  {
   "cell_type": "markdown",
   "metadata": {},
   "source": [
    "### Sample Dataset Processing"
   ]
  },
  {
   "cell_type": "code",
   "execution_count": 7,
   "metadata": {},
   "outputs": [],
   "source": [
    "df_hotest = df_master.loc[df_master['Dataset_ID'] == 2].copy()\n",
    "df_hotest = df_hotest.assign(Pop_ID=3, Posit_ID=df_hotest['ap_pa_ll'].map({'AP':1,'PA':2,'LL':3}))"
   ]
  },
  {
   "cell_type": "code",
   "execution_count": 8,
   "metadata": {},
   "outputs": [],
   "source": [
    "df_trnvaltst = proc_df(df_psample.join(df_master).append(df_hotest)[[*df_psample.columns]+['Path']+C.TARGET_LABELS])"
   ]
  },
  {
   "cell_type": "code",
   "execution_count": 9,
   "metadata": {},
   "outputs": [],
   "source": [
    "df_train,df_valid,df_test = (df_trnvaltst[df_trnvaltst['Pop_ID'].eq(i)] for i in range(1,4))\n",
    "dfs_tvt = [df_train,df_valid,df_test]"
   ]
  },
  {
   "cell_type": "code",
   "execution_count": 17,
   "metadata": {},
   "outputs": [
    {
     "data": {
      "text/html": [
       "<div>\n",
       "<style scoped>\n",
       "    .dataframe tbody tr th:only-of-type {\n",
       "        vertical-align: middle;\n",
       "    }\n",
       "\n",
       "    .dataframe tbody tr th {\n",
       "        vertical-align: top;\n",
       "    }\n",
       "\n",
       "    .dataframe thead th {\n",
       "        text-align: right;\n",
       "    }\n",
       "</style>\n",
       "<table border=\"1\" class=\"dataframe\">\n",
       "  <thead>\n",
       "    <tr style=\"text-align: right;\">\n",
       "      <th></th>\n",
       "      <th>Pop_ID</th>\n",
       "      <th>Posit_ID</th>\n",
       "      <th>Path</th>\n",
       "      <th>No_Finding</th>\n",
       "      <th>Enlarged_Cardiomediastinum</th>\n",
       "      <th>Cardiomegaly</th>\n",
       "      <th>Lung_Opacity</th>\n",
       "      <th>Lung_Lesion</th>\n",
       "      <th>Edema</th>\n",
       "      <th>Consolidation</th>\n",
       "      <th>Pneumonia</th>\n",
       "      <th>Atelectasis</th>\n",
       "      <th>Pneumothorax</th>\n",
       "      <th>Pleural_Effusion</th>\n",
       "      <th>Pleural_Other</th>\n",
       "      <th>Fracture</th>\n",
       "      <th>Support_Devices</th>\n",
       "    </tr>\n",
       "    <tr>\n",
       "      <th>CheX_Image_ID</th>\n",
       "      <th></th>\n",
       "      <th></th>\n",
       "      <th></th>\n",
       "      <th></th>\n",
       "      <th></th>\n",
       "      <th></th>\n",
       "      <th></th>\n",
       "      <th></th>\n",
       "      <th></th>\n",
       "      <th></th>\n",
       "      <th></th>\n",
       "      <th></th>\n",
       "      <th></th>\n",
       "      <th></th>\n",
       "      <th></th>\n",
       "      <th></th>\n",
       "      <th></th>\n",
       "    </tr>\n",
       "  </thead>\n",
       "  <tbody>\n",
       "    <tr>\n",
       "      <th>221521</th>\n",
       "      <td>3</td>\n",
       "      <td>1</td>\n",
       "      <td>CheXpert-v1.0-small/valid/patient64585/study1/...</td>\n",
       "      <td>0.0</td>\n",
       "      <td>1.0</td>\n",
       "      <td>1.0</td>\n",
       "      <td>0.0</td>\n",
       "      <td>0.0</td>\n",
       "      <td>0.0</td>\n",
       "      <td>0.0</td>\n",
       "      <td>0.0</td>\n",
       "      <td>0.0</td>\n",
       "      <td>0.0</td>\n",
       "      <td>0.0</td>\n",
       "      <td>0.0</td>\n",
       "      <td>0.0</td>\n",
       "      <td>0.0</td>\n",
       "    </tr>\n",
       "    <tr>\n",
       "      <th>221477</th>\n",
       "      <td>3</td>\n",
       "      <td>1</td>\n",
       "      <td>CheXpert-v1.0-small/valid/patient64552/study1/...</td>\n",
       "      <td>0.0</td>\n",
       "      <td>1.0</td>\n",
       "      <td>1.0</td>\n",
       "      <td>1.0</td>\n",
       "      <td>0.0</td>\n",
       "      <td>1.0</td>\n",
       "      <td>1.0</td>\n",
       "      <td>1.0</td>\n",
       "      <td>1.0</td>\n",
       "      <td>0.0</td>\n",
       "      <td>1.0</td>\n",
       "      <td>0.0</td>\n",
       "      <td>0.0</td>\n",
       "      <td>0.0</td>\n",
       "    </tr>\n",
       "    <tr>\n",
       "      <th>221663</th>\n",
       "      <td>3</td>\n",
       "      <td>1</td>\n",
       "      <td>CheXpert-v1.0-small/valid/patient64708/study1/...</td>\n",
       "      <td>0.0</td>\n",
       "      <td>1.0</td>\n",
       "      <td>0.0</td>\n",
       "      <td>0.0</td>\n",
       "      <td>0.0</td>\n",
       "      <td>0.0</td>\n",
       "      <td>0.0</td>\n",
       "      <td>0.0</td>\n",
       "      <td>0.0</td>\n",
       "      <td>0.0</td>\n",
       "      <td>0.0</td>\n",
       "      <td>0.0</td>\n",
       "      <td>0.0</td>\n",
       "      <td>0.0</td>\n",
       "    </tr>\n",
       "    <tr>\n",
       "      <th>221472</th>\n",
       "      <td>3</td>\n",
       "      <td>1</td>\n",
       "      <td>CheXpert-v1.0-small/valid/patient64548/study1/...</td>\n",
       "      <td>0.0</td>\n",
       "      <td>1.0</td>\n",
       "      <td>1.0</td>\n",
       "      <td>1.0</td>\n",
       "      <td>0.0</td>\n",
       "      <td>0.0</td>\n",
       "      <td>1.0</td>\n",
       "      <td>1.0</td>\n",
       "      <td>1.0</td>\n",
       "      <td>0.0</td>\n",
       "      <td>1.0</td>\n",
       "      <td>0.0</td>\n",
       "      <td>0.0</td>\n",
       "      <td>0.0</td>\n",
       "    </tr>\n",
       "    <tr>\n",
       "      <th>221695</th>\n",
       "      <td>3</td>\n",
       "      <td>1</td>\n",
       "      <td>CheXpert-v1.0-small/valid/patient64740/study1/...</td>\n",
       "      <td>0.0</td>\n",
       "      <td>1.0</td>\n",
       "      <td>0.0</td>\n",
       "      <td>1.0</td>\n",
       "      <td>0.0</td>\n",
       "      <td>0.0</td>\n",
       "      <td>0.0</td>\n",
       "      <td>0.0</td>\n",
       "      <td>1.0</td>\n",
       "      <td>0.0</td>\n",
       "      <td>1.0</td>\n",
       "      <td>0.0</td>\n",
       "      <td>0.0</td>\n",
       "      <td>0.0</td>\n",
       "    </tr>\n",
       "    <tr>\n",
       "      <th>...</th>\n",
       "      <td>...</td>\n",
       "      <td>...</td>\n",
       "      <td>...</td>\n",
       "      <td>...</td>\n",
       "      <td>...</td>\n",
       "      <td>...</td>\n",
       "      <td>...</td>\n",
       "      <td>...</td>\n",
       "      <td>...</td>\n",
       "      <td>...</td>\n",
       "      <td>...</td>\n",
       "      <td>...</td>\n",
       "      <td>...</td>\n",
       "      <td>...</td>\n",
       "      <td>...</td>\n",
       "      <td>...</td>\n",
       "      <td>...</td>\n",
       "    </tr>\n",
       "    <tr>\n",
       "      <th>221577</th>\n",
       "      <td>3</td>\n",
       "      <td>3</td>\n",
       "      <td>CheXpert-v1.0-small/valid/patient64625/study1/...</td>\n",
       "      <td>1.0</td>\n",
       "      <td>0.0</td>\n",
       "      <td>0.0</td>\n",
       "      <td>0.0</td>\n",
       "      <td>0.0</td>\n",
       "      <td>0.0</td>\n",
       "      <td>0.0</td>\n",
       "      <td>0.0</td>\n",
       "      <td>0.0</td>\n",
       "      <td>0.0</td>\n",
       "      <td>0.0</td>\n",
       "      <td>0.0</td>\n",
       "      <td>0.0</td>\n",
       "      <td>0.0</td>\n",
       "    </tr>\n",
       "    <tr>\n",
       "      <th>221657</th>\n",
       "      <td>3</td>\n",
       "      <td>1</td>\n",
       "      <td>CheXpert-v1.0-small/valid/patient64703/study1/...</td>\n",
       "      <td>0.0</td>\n",
       "      <td>0.0</td>\n",
       "      <td>0.0</td>\n",
       "      <td>1.0</td>\n",
       "      <td>0.0</td>\n",
       "      <td>0.0</td>\n",
       "      <td>1.0</td>\n",
       "      <td>0.0</td>\n",
       "      <td>1.0</td>\n",
       "      <td>0.0</td>\n",
       "      <td>1.0</td>\n",
       "      <td>0.0</td>\n",
       "      <td>0.0</td>\n",
       "      <td>1.0</td>\n",
       "    </tr>\n",
       "    <tr>\n",
       "      <th>221574</th>\n",
       "      <td>3</td>\n",
       "      <td>1</td>\n",
       "      <td>CheXpert-v1.0-small/valid/patient64623/study1/...</td>\n",
       "      <td>0.0</td>\n",
       "      <td>1.0</td>\n",
       "      <td>1.0</td>\n",
       "      <td>1.0</td>\n",
       "      <td>0.0</td>\n",
       "      <td>1.0</td>\n",
       "      <td>1.0</td>\n",
       "      <td>0.0</td>\n",
       "      <td>1.0</td>\n",
       "      <td>0.0</td>\n",
       "      <td>1.0</td>\n",
       "      <td>0.0</td>\n",
       "      <td>0.0</td>\n",
       "      <td>1.0</td>\n",
       "    </tr>\n",
       "    <tr>\n",
       "      <th>221652</th>\n",
       "      <td>3</td>\n",
       "      <td>1</td>\n",
       "      <td>CheXpert-v1.0-small/valid/patient64698/study1/...</td>\n",
       "      <td>0.0</td>\n",
       "      <td>1.0</td>\n",
       "      <td>1.0</td>\n",
       "      <td>1.0</td>\n",
       "      <td>0.0</td>\n",
       "      <td>1.0</td>\n",
       "      <td>0.0</td>\n",
       "      <td>0.0</td>\n",
       "      <td>0.0</td>\n",
       "      <td>0.0</td>\n",
       "      <td>0.0</td>\n",
       "      <td>0.0</td>\n",
       "      <td>0.0</td>\n",
       "      <td>0.0</td>\n",
       "    </tr>\n",
       "    <tr>\n",
       "      <th>221672</th>\n",
       "      <td>3</td>\n",
       "      <td>1</td>\n",
       "      <td>CheXpert-v1.0-small/valid/patient64717/study1/...</td>\n",
       "      <td>0.0</td>\n",
       "      <td>1.0</td>\n",
       "      <td>1.0</td>\n",
       "      <td>1.0</td>\n",
       "      <td>0.0</td>\n",
       "      <td>1.0</td>\n",
       "      <td>1.0</td>\n",
       "      <td>0.0</td>\n",
       "      <td>1.0</td>\n",
       "      <td>0.0</td>\n",
       "      <td>0.0</td>\n",
       "      <td>0.0</td>\n",
       "      <td>0.0</td>\n",
       "      <td>1.0</td>\n",
       "    </tr>\n",
       "  </tbody>\n",
       "</table>\n",
       "<p>234 rows × 17 columns</p>\n",
       "</div>"
      ],
      "text/plain": [
       "               Pop_ID  Posit_ID  \\\n",
       "CheX_Image_ID                     \n",
       "221521              3         1   \n",
       "221477              3         1   \n",
       "221663              3         1   \n",
       "221472              3         1   \n",
       "221695              3         1   \n",
       "...               ...       ...   \n",
       "221577              3         3   \n",
       "221657              3         1   \n",
       "221574              3         1   \n",
       "221652              3         1   \n",
       "221672              3         1   \n",
       "\n",
       "                                                            Path  No_Finding  \\\n",
       "CheX_Image_ID                                                                  \n",
       "221521         CheXpert-v1.0-small/valid/patient64585/study1/...         0.0   \n",
       "221477         CheXpert-v1.0-small/valid/patient64552/study1/...         0.0   \n",
       "221663         CheXpert-v1.0-small/valid/patient64708/study1/...         0.0   \n",
       "221472         CheXpert-v1.0-small/valid/patient64548/study1/...         0.0   \n",
       "221695         CheXpert-v1.0-small/valid/patient64740/study1/...         0.0   \n",
       "...                                                          ...         ...   \n",
       "221577         CheXpert-v1.0-small/valid/patient64625/study1/...         1.0   \n",
       "221657         CheXpert-v1.0-small/valid/patient64703/study1/...         0.0   \n",
       "221574         CheXpert-v1.0-small/valid/patient64623/study1/...         0.0   \n",
       "221652         CheXpert-v1.0-small/valid/patient64698/study1/...         0.0   \n",
       "221672         CheXpert-v1.0-small/valid/patient64717/study1/...         0.0   \n",
       "\n",
       "               Enlarged_Cardiomediastinum  Cardiomegaly  Lung_Opacity  \\\n",
       "CheX_Image_ID                                                           \n",
       "221521                                1.0           1.0           0.0   \n",
       "221477                                1.0           1.0           1.0   \n",
       "221663                                1.0           0.0           0.0   \n",
       "221472                                1.0           1.0           1.0   \n",
       "221695                                1.0           0.0           1.0   \n",
       "...                                   ...           ...           ...   \n",
       "221577                                0.0           0.0           0.0   \n",
       "221657                                0.0           0.0           1.0   \n",
       "221574                                1.0           1.0           1.0   \n",
       "221652                                1.0           1.0           1.0   \n",
       "221672                                1.0           1.0           1.0   \n",
       "\n",
       "               Lung_Lesion  Edema  Consolidation  Pneumonia  Atelectasis  \\\n",
       "CheX_Image_ID                                                              \n",
       "221521                 0.0    0.0            0.0        0.0          0.0   \n",
       "221477                 0.0    1.0            1.0        1.0          1.0   \n",
       "221663                 0.0    0.0            0.0        0.0          0.0   \n",
       "221472                 0.0    0.0            1.0        1.0          1.0   \n",
       "221695                 0.0    0.0            0.0        0.0          1.0   \n",
       "...                    ...    ...            ...        ...          ...   \n",
       "221577                 0.0    0.0            0.0        0.0          0.0   \n",
       "221657                 0.0    0.0            1.0        0.0          1.0   \n",
       "221574                 0.0    1.0            1.0        0.0          1.0   \n",
       "221652                 0.0    1.0            0.0        0.0          0.0   \n",
       "221672                 0.0    1.0            1.0        0.0          1.0   \n",
       "\n",
       "               Pneumothorax  Pleural_Effusion  Pleural_Other  Fracture  \\\n",
       "CheX_Image_ID                                                            \n",
       "221521                  0.0               0.0            0.0       0.0   \n",
       "221477                  0.0               1.0            0.0       0.0   \n",
       "221663                  0.0               0.0            0.0       0.0   \n",
       "221472                  0.0               1.0            0.0       0.0   \n",
       "221695                  0.0               1.0            0.0       0.0   \n",
       "...                     ...               ...            ...       ...   \n",
       "221577                  0.0               0.0            0.0       0.0   \n",
       "221657                  0.0               1.0            0.0       0.0   \n",
       "221574                  0.0               1.0            0.0       0.0   \n",
       "221652                  0.0               0.0            0.0       0.0   \n",
       "221672                  0.0               0.0            0.0       0.0   \n",
       "\n",
       "               Support_Devices  \n",
       "CheX_Image_ID                   \n",
       "221521                     0.0  \n",
       "221477                     0.0  \n",
       "221663                     0.0  \n",
       "221472                     0.0  \n",
       "221695                     0.0  \n",
       "...                        ...  \n",
       "221577                     0.0  \n",
       "221657                     1.0  \n",
       "221574                     1.0  \n",
       "221652                     0.0  \n",
       "221672                     1.0  \n",
       "\n",
       "[234 rows x 17 columns]"
      ]
     },
     "execution_count": 17,
     "metadata": {},
     "output_type": "execute_result"
    }
   ],
   "source": [
    "df_test"
   ]
  },
  {
   "cell_type": "code",
   "execution_count": 8,
   "metadata": {},
   "outputs": [],
   "source": [
    "test_loader1,test_loader2,test_loader3 = (subset_dloader(df_test,i,False,grp_name='Posit_ID',batch_size=256,print_tfms=False) for i in [1,2,3])\n",
    "test_loaders = [test_loader1,test_loader2,test_loader3]"
   ]
  },
  {
   "cell_type": "markdown",
   "metadata": {},
   "source": [
    "## Experiments"
   ]
  },
  {
   "cell_type": "code",
   "execution_count": 11,
   "metadata": {},
   "outputs": [],
   "source": [
    "gidmap = {1:'AP', 2:'PA', 3:'LL'}"
   ]
  },
  {
   "cell_type": "code",
   "execution_count": 155,
   "metadata": {},
   "outputs": [],
   "source": [
    "def train_group(df_train, df_valid, grp_id, grp_name='Posit_ID', batch_size=256, unq=''):\n",
    "    train_loader, valid_loader = get_pdloaders(df_train, df_valid, grp_id, grp_name, batch_size, print_tfms=False)\n",
    "    nsamp = str(len(train_loader.dataset)/1000).split('.')[0]\n",
    "\n",
    "    n_epochs = 5\n",
    "    savename=f'dn121_{gidmap[grp_id]}_{nsamp}k_{n_epochs}e'+unq\n",
    "\n",
    "    criterion = nn.BCELoss()\n",
    "    model = CheXModel('densenet121',use_sig=True)\n",
    "    optimizer = optim.Adam(model.parameters(), lr=1e-2)\n",
    "    thaw_schd = {2:('norm5','denseblock4'), 3:('transition3','denseblock3')}\n",
    "    scheduler = optim.lr_scheduler.MultiStepLR(optimizer, [1,2,3], gamma=0.1, verbose=True)\n",
    "\n",
    "    trainer = Trainer(model, optimizer, criterion, scheduler, thaw_schd, device=DEVICE)\n",
    "    pstat = trainer.freeze(['_fc','fc','network.classifier','classifier',],invert_match=True)\n",
    "\n",
    "    hist = trainer.train(train_loader, valid_loader, n_epochs, log_freq=10, save_name=f'{savename}_chkpnt')\n",
    "    save_desc = make_desc(train_loader, trainer, f\"{n_epochs}e, {gidmap[grp_id]}({grp_id}) projections only\")\n",
    "    save_history(trainer.history, savename, save_desc)\n",
    "    return trainer,savename"
   ]
  },
  {
   "cell_type": "markdown",
   "metadata": {
    "heading_collapsed": true
   },
   "source": [
    "### Sampled Data"
   ]
  },
  {
   "cell_type": "code",
   "execution_count": 14,
   "metadata": {
    "hidden": true
   },
   "outputs": [],
   "source": [
    "#df_train, df_valid = df_train, df_valid\n",
    "samp_savenames = []"
   ]
  },
  {
   "cell_type": "markdown",
   "metadata": {
    "heading_collapsed": true,
    "hidden": true
   },
   "source": [
    "#### Group = AP(1)"
   ]
  },
  {
   "cell_type": "code",
   "execution_count": 29,
   "metadata": {
    "hidden": true
   },
   "outputs": [
    {
     "name": "stdout",
     "output_type": "stream",
     "text": [
      "Adjusting learning rate of group 0 to 1.0000e-02.\n",
      "Trainable: 1, Frozen: 241\n"
     ]
    },
    {
     "data": {
      "application/vnd.jupyter.widget-view+json": {
       "model_id": "0effb58aa95c462e8bf110f864ae5bca",
       "version_major": 2,
       "version_minor": 0
      },
      "text/plain": [
       "HBox(children=(FloatProgress(value=0.0, max=5.0), HTML(value='')))"
      ]
     },
     "metadata": {},
     "output_type": "display_data"
    },
    {
     "data": {
      "application/vnd.jupyter.widget-view+json": {
       "model_id": "",
       "version_major": 2,
       "version_minor": 0
      },
      "text/plain": [
       "HBox(children=(FloatProgress(value=0.0, max=283.0), HTML(value='')))"
      ]
     },
     "metadata": {},
     "output_type": "display_data"
    },
    {
     "data": {
      "application/vnd.jupyter.widget-view+json": {
       "model_id": "",
       "version_major": 2,
       "version_minor": 0
      },
      "text/plain": [
       "HBox(children=(FloatProgress(value=0.0, max=122.0), HTML(value='')))"
      ]
     },
     "metadata": {},
     "output_type": "display_data"
    },
    {
     "name": "stdout",
     "output_type": "stream",
     "text": [
      "Score improved: 0.82552 > 0.00000\n",
      "state dict saved to: save/models/dn121_AP_72k_5e_chkpnt.pt\n",
      "Adjusting learning rate of group 0 to 1.0000e-03.\n",
      "Epoch [0] train_loss: 0.4134, train_auc: 0.8149, train_auc5: 0.6871, valid_loss: 0.3932, valid_auc: 0.8255, valid_auc5: 0.7247\n"
     ]
    },
    {
     "data": {
      "application/vnd.jupyter.widget-view+json": {
       "model_id": "",
       "version_major": 2,
       "version_minor": 0
      },
      "text/plain": [
       "HBox(children=(FloatProgress(value=0.0, max=283.0), HTML(value='')))"
      ]
     },
     "metadata": {},
     "output_type": "display_data"
    },
    {
     "data": {
      "application/vnd.jupyter.widget-view+json": {
       "model_id": "",
       "version_major": 2,
       "version_minor": 0
      },
      "text/plain": [
       "HBox(children=(FloatProgress(value=0.0, max=122.0), HTML(value='')))"
      ]
     },
     "metadata": {},
     "output_type": "display_data"
    },
    {
     "name": "stdout",
     "output_type": "stream",
     "text": [
      "Score improved: 0.82687 > 0.82552\n",
      "state dict saved to: save/models/dn121_AP_72k_5e_chkpnt.pt\n",
      "Adjusting learning rate of group 0 to 1.0000e-04.\n",
      "Epoch [1] train_loss: 0.3817, train_auc: 0.8339, train_auc5: 0.7206, valid_loss: 0.3923, valid_auc: 0.8269, valid_auc5: 0.7157\n",
      "Trainable: 66, Frozen: 176\n"
     ]
    },
    {
     "data": {
      "application/vnd.jupyter.widget-view+json": {
       "model_id": "",
       "version_major": 2,
       "version_minor": 0
      },
      "text/plain": [
       "HBox(children=(FloatProgress(value=0.0, max=283.0), HTML(value='')))"
      ]
     },
     "metadata": {},
     "output_type": "display_data"
    },
    {
     "data": {
      "application/vnd.jupyter.widget-view+json": {
       "model_id": "",
       "version_major": 2,
       "version_minor": 0
      },
      "text/plain": [
       "HBox(children=(FloatProgress(value=0.0, max=122.0), HTML(value='')))"
      ]
     },
     "metadata": {},
     "output_type": "display_data"
    },
    {
     "name": "stdout",
     "output_type": "stream",
     "text": [
      "Score improved: 0.84924 > 0.82687\n",
      "state dict saved to: save/models/dn121_AP_72k_5e_chkpnt.pt\n",
      "Adjusting learning rate of group 0 to 1.0000e-05.\n",
      "Epoch [2] train_loss: 0.3723, train_auc: 0.8433, train_auc5: 0.7413, valid_loss: 0.3654, valid_auc: 0.8492, valid_auc5: 0.7590\n",
      "Trainable: 164, Frozen: 78\n"
     ]
    },
    {
     "data": {
      "application/vnd.jupyter.widget-view+json": {
       "model_id": "",
       "version_major": 2,
       "version_minor": 0
      },
      "text/plain": [
       "HBox(children=(FloatProgress(value=0.0, max=283.0), HTML(value='')))"
      ]
     },
     "metadata": {},
     "output_type": "display_data"
    },
    {
     "data": {
      "application/vnd.jupyter.widget-view+json": {
       "model_id": "",
       "version_major": 2,
       "version_minor": 0
      },
      "text/plain": [
       "HBox(children=(FloatProgress(value=0.0, max=122.0), HTML(value='')))"
      ]
     },
     "metadata": {},
     "output_type": "display_data"
    },
    {
     "name": "stdout",
     "output_type": "stream",
     "text": [
      "Score improved: 0.85213 > 0.84924\n",
      "state dict saved to: save/models/dn121_AP_72k_5e_chkpnt.pt\n",
      "Adjusting learning rate of group 0 to 1.0000e-05.\n",
      "Epoch [3] train_loss: 0.3657, train_auc: 0.8510, train_auc5: 0.7589, valid_loss: 0.3647, valid_auc: 0.8521, valid_auc5: 0.7639\n"
     ]
    },
    {
     "data": {
      "application/vnd.jupyter.widget-view+json": {
       "model_id": "",
       "version_major": 2,
       "version_minor": 0
      },
      "text/plain": [
       "HBox(children=(FloatProgress(value=0.0, max=283.0), HTML(value='')))"
      ]
     },
     "metadata": {},
     "output_type": "display_data"
    },
    {
     "data": {
      "application/vnd.jupyter.widget-view+json": {
       "model_id": "",
       "version_major": 2,
       "version_minor": 0
      },
      "text/plain": [
       "HBox(children=(FloatProgress(value=0.0, max=122.0), HTML(value='')))"
      ]
     },
     "metadata": {},
     "output_type": "display_data"
    },
    {
     "name": "stdout",
     "output_type": "stream",
     "text": [
      "Score improved: 0.85443 > 0.85213\n",
      "state dict saved to: save/models/dn121_AP_72k_5e_chkpnt.pt\n",
      "Adjusting learning rate of group 0 to 1.0000e-05.\n",
      "Epoch [4] train_loss: 0.3608, train_auc: 0.8548, train_auc5: 0.7663, valid_loss: 0.3615, valid_auc: 0.8544, valid_auc5: 0.7697\n",
      "\n",
      "File saved to: save/histories/dn121_AP_72k_5e.pkl\n"
     ]
    }
   ],
   "source": [
    "grp_id = 1\n",
    "trainer,savename = train_group(df_train, df_valid, grp_id)\n",
    "samp_savenames.append(f'{savename}_chkpnt')"
   ]
  },
  {
   "cell_type": "code",
   "execution_count": 37,
   "metadata": {
    "hidden": true
   },
   "outputs": [
    {
     "data": {
      "application/vnd.jupyter.widget-view+json": {
       "model_id": "",
       "version_major": 2,
       "version_minor": 0
      },
      "text/plain": [
       "HBox(children=(FloatProgress(value=0.0, max=1.0), HTML(value='')))"
      ]
     },
     "metadata": {},
     "output_type": "display_data"
    },
    {
     "name": "stdout",
     "output_type": "stream",
     "text": [
      "Full Test - Loss: 0.39578, AUC: 0.81785\n"
     ]
    },
    {
     "data": {
      "application/vnd.jupyter.widget-view+json": {
       "model_id": "",
       "version_major": 2,
       "version_minor": 0
      },
      "text/plain": [
       "HBox(children=(FloatProgress(value=0.0, max=1.0), HTML(value='')))"
      ]
     },
     "metadata": {},
     "output_type": "display_data"
    },
    {
     "name": "stdout",
     "output_type": "stream",
     "text": [
      "Group1 Test - Loss: 0.43139, AUC: 0.83316\n"
     ]
    }
   ],
   "source": [
    "#last epoch time: train=~8m, valid=~2m\n",
    "print('Full Test - Loss: {:.5f}, AUC: {:.5f}'.format(*trainer.evaluate(test_loader_full)))\n",
    "print(f'Group{grp_id}'+' Test - Loss: {:.5f}, AUC: {:.5f}'.format(*trainer.evaluate(test_loaders[grp_id-1])))"
   ]
  },
  {
   "cell_type": "markdown",
   "metadata": {
    "heading_collapsed": true,
    "hidden": true
   },
   "source": [
    "#### Group = PA(2)"
   ]
  },
  {
   "cell_type": "code",
   "execution_count": 84,
   "metadata": {
    "hidden": true
   },
   "outputs": [
    {
     "name": "stdout",
     "output_type": "stream",
     "text": [
      "Adjusting learning rate of group 0 to 1.0000e-02.\n",
      "Trainable: 1, Frozen: 241\n"
     ]
    },
    {
     "data": {
      "application/vnd.jupyter.widget-view+json": {
       "model_id": "2df3e547997f410fb4aefca9075f4e2b",
       "version_major": 2,
       "version_minor": 0
      },
      "text/plain": [
       "HBox(children=(FloatProgress(value=0.0, max=5.0), HTML(value='')))"
      ]
     },
     "metadata": {},
     "output_type": "display_data"
    },
    {
     "data": {
      "application/vnd.jupyter.widget-view+json": {
       "model_id": "",
       "version_major": 2,
       "version_minor": 0
      },
      "text/plain": [
       "HBox(children=(FloatProgress(value=0.0, max=52.0), HTML(value='')))"
      ]
     },
     "metadata": {},
     "output_type": "display_data"
    },
    {
     "data": {
      "application/vnd.jupyter.widget-view+json": {
       "model_id": "",
       "version_major": 2,
       "version_minor": 0
      },
      "text/plain": [
       "HBox(children=(FloatProgress(value=0.0, max=23.0), HTML(value='')))"
      ]
     },
     "metadata": {},
     "output_type": "display_data"
    },
    {
     "name": "stdout",
     "output_type": "stream",
     "text": [
      "Score improved: 0.74008 > 0.00000\n",
      "state dict saved to: save/models/dn121_PA_13k_5e_chkpnt.pt\n",
      "Adjusting learning rate of group 0 to 1.0000e-03.\n",
      "Epoch [0] train_loss: 0.4625, train_auc: 0.6860, train_auc5: 0.6695, train_time: 58.6928, valid_loss: 0.3740, valid_auc: 0.7401, valid_auc5: 0.7403, valid_time: 23.0439\n"
     ]
    },
    {
     "data": {
      "application/vnd.jupyter.widget-view+json": {
       "model_id": "",
       "version_major": 2,
       "version_minor": 0
      },
      "text/plain": [
       "HBox(children=(FloatProgress(value=0.0, max=52.0), HTML(value='')))"
      ]
     },
     "metadata": {},
     "output_type": "display_data"
    },
    {
     "data": {
      "application/vnd.jupyter.widget-view+json": {
       "model_id": "",
       "version_major": 2,
       "version_minor": 0
      },
      "text/plain": [
       "HBox(children=(FloatProgress(value=0.0, max=23.0), HTML(value='')))"
      ]
     },
     "metadata": {},
     "output_type": "display_data"
    },
    {
     "name": "stdout",
     "output_type": "stream",
     "text": [
      "Score improved: 0.75304 > 0.74008\n",
      "state dict saved to: save/models/dn121_PA_13k_5e_chkpnt.pt\n",
      "Adjusting learning rate of group 0 to 1.0000e-04.\n",
      "Epoch [1] train_loss: 0.3630, train_auc: 0.7515, train_auc5: 0.7450, train_time: 63.3577, valid_loss: 0.3607, valid_auc: 0.7530, valid_auc5: 0.7527, valid_time: 25.7046\n",
      "Trainable: 66, Frozen: 176\n"
     ]
    },
    {
     "data": {
      "application/vnd.jupyter.widget-view+json": {
       "model_id": "",
       "version_major": 2,
       "version_minor": 0
      },
      "text/plain": [
       "HBox(children=(FloatProgress(value=0.0, max=52.0), HTML(value='')))"
      ]
     },
     "metadata": {},
     "output_type": "display_data"
    },
    {
     "data": {
      "application/vnd.jupyter.widget-view+json": {
       "model_id": "",
       "version_major": 2,
       "version_minor": 0
      },
      "text/plain": [
       "HBox(children=(FloatProgress(value=0.0, max=23.0), HTML(value='')))"
      ]
     },
     "metadata": {},
     "output_type": "display_data"
    },
    {
     "name": "stdout",
     "output_type": "stream",
     "text": [
      "Score improved: 0.77362 > 0.75304\n",
      "state dict saved to: save/models/dn121_PA_13k_5e_chkpnt.pt\n",
      "Adjusting learning rate of group 0 to 1.0000e-05.\n",
      "Epoch [2] train_loss: 0.3550, train_auc: 0.7658, train_auc5: 0.7608, train_time: 68.4375, valid_loss: 0.3500, valid_auc: 0.7736, valid_auc5: 0.7778, valid_time: 25.8108\n",
      "Trainable: 164, Frozen: 78\n"
     ]
    },
    {
     "data": {
      "application/vnd.jupyter.widget-view+json": {
       "model_id": "",
       "version_major": 2,
       "version_minor": 0
      },
      "text/plain": [
       "HBox(children=(FloatProgress(value=0.0, max=52.0), HTML(value='')))"
      ]
     },
     "metadata": {},
     "output_type": "display_data"
    },
    {
     "data": {
      "application/vnd.jupyter.widget-view+json": {
       "model_id": "",
       "version_major": 2,
       "version_minor": 0
      },
      "text/plain": [
       "HBox(children=(FloatProgress(value=0.0, max=23.0), HTML(value='')))"
      ]
     },
     "metadata": {},
     "output_type": "display_data"
    },
    {
     "name": "stdout",
     "output_type": "stream",
     "text": [
      "Score improved: 0.77817 > 0.77362\n",
      "state dict saved to: save/models/dn121_PA_13k_5e_chkpnt.pt\n",
      "Adjusting learning rate of group 0 to 1.0000e-05.\n",
      "Epoch [3] train_loss: 0.3476, train_auc: 0.7788, train_auc5: 0.7790, train_time: 93.7809, valid_loss: 0.3470, valid_auc: 0.7782, valid_auc5: 0.7831, valid_time: 24.5240\n"
     ]
    },
    {
     "data": {
      "application/vnd.jupyter.widget-view+json": {
       "model_id": "",
       "version_major": 2,
       "version_minor": 0
      },
      "text/plain": [
       "HBox(children=(FloatProgress(value=0.0, max=52.0), HTML(value='')))"
      ]
     },
     "metadata": {},
     "output_type": "display_data"
    },
    {
     "data": {
      "application/vnd.jupyter.widget-view+json": {
       "model_id": "",
       "version_major": 2,
       "version_minor": 0
      },
      "text/plain": [
       "HBox(children=(FloatProgress(value=0.0, max=23.0), HTML(value='')))"
      ]
     },
     "metadata": {},
     "output_type": "display_data"
    },
    {
     "name": "stdout",
     "output_type": "stream",
     "text": [
      "Score improved: 0.78063 > 0.77817\n",
      "state dict saved to: save/models/dn121_PA_13k_5e_chkpnt.pt\n",
      "Adjusting learning rate of group 0 to 1.0000e-05.\n",
      "Epoch [4] train_loss: 0.3450, train_auc: 0.7833, train_auc5: 0.7842, train_time: 93.2016, valid_loss: 0.3451, valid_auc: 0.7806, valid_auc5: 0.7866, valid_time: 24.4921\n",
      "\n",
      "File saved to: save/histories/dn121_PA_13k_5e.pkl\n"
     ]
    }
   ],
   "source": [
    "grp_id = 2\n",
    "trainer,savename = train_group(df_train, df_valid, grp_id)\n",
    "samp_savenames.append(f'{savename}_chkpnt')"
   ]
  },
  {
   "cell_type": "code",
   "execution_count": 86,
   "metadata": {
    "hidden": true
   },
   "outputs": [
    {
     "data": {
      "application/vnd.jupyter.widget-view+json": {
       "model_id": "",
       "version_major": 2,
       "version_minor": 0
      },
      "text/plain": [
       "HBox(children=(FloatProgress(value=0.0, max=1.0), HTML(value='')))"
      ]
     },
     "metadata": {},
     "output_type": "display_data"
    },
    {
     "name": "stdout",
     "output_type": "stream",
     "text": [
      "Full Test - Loss: 0.42126, AUC: 0.80436\n"
     ]
    },
    {
     "data": {
      "application/vnd.jupyter.widget-view+json": {
       "model_id": "",
       "version_major": 2,
       "version_minor": 0
      },
      "text/plain": [
       "HBox(children=(FloatProgress(value=0.0, max=1.0), HTML(value='')))"
      ]
     },
     "metadata": {},
     "output_type": "display_data"
    },
    {
     "name": "stdout",
     "output_type": "stream",
     "text": [
      "Group2 Test - Loss: 0.23064, AUC: 0.87132\n"
     ]
    }
   ],
   "source": [
    "print('Full Test - Loss: {:.5f}, AUC: {:.5f}'.format(*trainer.evaluate(test_loader_full)))\n",
    "print(f'Group{grp_id}'+' Test - Loss: {:.5f}, AUC: {:.5f}'.format(*trainer.evaluate(test_loaders[grp_id-1])))"
   ]
  },
  {
   "cell_type": "markdown",
   "metadata": {
    "heading_collapsed": true,
    "hidden": true
   },
   "source": [
    "#### Group = LL(3)"
   ]
  },
  {
   "cell_type": "code",
   "execution_count": 24,
   "metadata": {
    "hidden": true
   },
   "outputs": [
    {
     "name": "stdout",
     "output_type": "stream",
     "text": [
      "Adjusting learning rate of group 0 to 1.0000e-02.\n",
      "Trainable: 1, Frozen: 241\n"
     ]
    },
    {
     "data": {
      "application/vnd.jupyter.widget-view+json": {
       "model_id": "f9187a9d1592464998bfb738f150af35",
       "version_major": 2,
       "version_minor": 0
      },
      "text/plain": [
       "HBox(children=(FloatProgress(value=0.0, max=5.0), HTML(value='')))"
      ]
     },
     "metadata": {},
     "output_type": "display_data"
    },
    {
     "data": {
      "application/vnd.jupyter.widget-view+json": {
       "model_id": "",
       "version_major": 2,
       "version_minor": 0
      },
      "text/plain": [
       "HBox(children=(FloatProgress(value=0.0, max=57.0), HTML(value='')))"
      ]
     },
     "metadata": {},
     "output_type": "display_data"
    },
    {
     "data": {
      "application/vnd.jupyter.widget-view+json": {
       "model_id": "",
       "version_major": 2,
       "version_minor": 0
      },
      "text/plain": [
       "HBox(children=(FloatProgress(value=0.0, max=25.0), HTML(value='')))"
      ]
     },
     "metadata": {},
     "output_type": "display_data"
    },
    {
     "name": "stdout",
     "output_type": "stream",
     "text": [
      "Score improved: 0.72900 > 0.00000\n",
      "state dict saved to: save/models/dn121_LL_14k_5e_chkpnt.pt\n",
      "Adjusting learning rate of group 0 to 1.0000e-03.\n",
      "Epoch [0] train_loss: 0.4694, train_auc: 0.6867, train_auc5: 0.6513, valid_loss: 0.3890, valid_auc: 0.7290, valid_auc5: 0.7257\n"
     ]
    },
    {
     "data": {
      "application/vnd.jupyter.widget-view+json": {
       "model_id": "",
       "version_major": 2,
       "version_minor": 0
      },
      "text/plain": [
       "HBox(children=(FloatProgress(value=0.0, max=57.0), HTML(value='')))"
      ]
     },
     "metadata": {},
     "output_type": "display_data"
    },
    {
     "data": {
      "application/vnd.jupyter.widget-view+json": {
       "model_id": "",
       "version_major": 2,
       "version_minor": 0
      },
      "text/plain": [
       "HBox(children=(FloatProgress(value=0.0, max=25.0), HTML(value='')))"
      ]
     },
     "metadata": {},
     "output_type": "display_data"
    },
    {
     "name": "stdout",
     "output_type": "stream",
     "text": [
      "Score improved: 0.74961 > 0.72900\n",
      "state dict saved to: save/models/dn121_LL_14k_5e_chkpnt.pt\n",
      "Adjusting learning rate of group 0 to 1.0000e-04.\n",
      "Epoch [1] train_loss: 0.3741, train_auc: 0.7459, train_auc5: 0.7247, valid_loss: 0.3721, valid_auc: 0.7496, valid_auc5: 0.7291\n",
      "Trainable: 66, Frozen: 176\n"
     ]
    },
    {
     "data": {
      "application/vnd.jupyter.widget-view+json": {
       "model_id": "",
       "version_major": 2,
       "version_minor": 0
      },
      "text/plain": [
       "HBox(children=(FloatProgress(value=0.0, max=57.0), HTML(value='')))"
      ]
     },
     "metadata": {},
     "output_type": "display_data"
    },
    {
     "data": {
      "application/vnd.jupyter.widget-view+json": {
       "model_id": "",
       "version_major": 2,
       "version_minor": 0
      },
      "text/plain": [
       "HBox(children=(FloatProgress(value=0.0, max=25.0), HTML(value='')))"
      ]
     },
     "metadata": {},
     "output_type": "display_data"
    },
    {
     "name": "stdout",
     "output_type": "stream",
     "text": [
      "Score improved: 0.76900 > 0.74961\n",
      "state dict saved to: save/models/dn121_LL_14k_5e_chkpnt.pt\n",
      "Adjusting learning rate of group 0 to 1.0000e-05.\n",
      "Epoch [2] train_loss: 0.3666, train_auc: 0.7602, train_auc5: 0.7429, valid_loss: 0.3589, valid_auc: 0.7690, valid_auc5: 0.7607\n",
      "Trainable: 164, Frozen: 78\n"
     ]
    },
    {
     "data": {
      "application/vnd.jupyter.widget-view+json": {
       "model_id": "",
       "version_major": 2,
       "version_minor": 0
      },
      "text/plain": [
       "HBox(children=(FloatProgress(value=0.0, max=57.0), HTML(value='')))"
      ]
     },
     "metadata": {},
     "output_type": "display_data"
    },
    {
     "data": {
      "application/vnd.jupyter.widget-view+json": {
       "model_id": "",
       "version_major": 2,
       "version_minor": 0
      },
      "text/plain": [
       "HBox(children=(FloatProgress(value=0.0, max=25.0), HTML(value='')))"
      ]
     },
     "metadata": {},
     "output_type": "display_data"
    },
    {
     "name": "stdout",
     "output_type": "stream",
     "text": [
      "Score improved: 0.77364 > 0.76900\n",
      "state dict saved to: save/models/dn121_LL_14k_5e_chkpnt.pt\n",
      "Adjusting learning rate of group 0 to 1.0000e-05.\n",
      "Epoch [3] train_loss: 0.3560, train_auc: 0.7773, train_auc5: 0.7644, valid_loss: 0.3565, valid_auc: 0.7736, valid_auc5: 0.7669\n"
     ]
    },
    {
     "data": {
      "application/vnd.jupyter.widget-view+json": {
       "model_id": "",
       "version_major": 2,
       "version_minor": 0
      },
      "text/plain": [
       "HBox(children=(FloatProgress(value=0.0, max=57.0), HTML(value='')))"
      ]
     },
     "metadata": {},
     "output_type": "display_data"
    },
    {
     "data": {
      "application/vnd.jupyter.widget-view+json": {
       "model_id": "",
       "version_major": 2,
       "version_minor": 0
      },
      "text/plain": [
       "HBox(children=(FloatProgress(value=0.0, max=25.0), HTML(value='')))"
      ]
     },
     "metadata": {},
     "output_type": "display_data"
    },
    {
     "name": "stdout",
     "output_type": "stream",
     "text": [
      "Score improved: 0.77536 > 0.77364\n",
      "state dict saved to: save/models/dn121_LL_14k_5e_chkpnt.pt\n",
      "Adjusting learning rate of group 0 to 1.0000e-05.\n",
      "Epoch [4] train_loss: 0.3536, train_auc: 0.7811, train_auc5: 0.7703, valid_loss: 0.3552, valid_auc: 0.7754, valid_auc5: 0.7686\n",
      "\n",
      "File saved to: save/histories/dn121_LL_14k_5e.pkl\n"
     ]
    }
   ],
   "source": [
    "grp_id = 3\n",
    "trainer,savename = train_group(df_train, df_valid, grp_id)\n",
    "samp_savenames.append(f'{savename}_chkpnt')"
   ]
  },
  {
   "cell_type": "code",
   "execution_count": 28,
   "metadata": {
    "hidden": true
   },
   "outputs": [
    {
     "data": {
      "application/vnd.jupyter.widget-view+json": {
       "model_id": "",
       "version_major": 2,
       "version_minor": 0
      },
      "text/plain": [
       "HBox(children=(FloatProgress(value=0.0, max=1.0), HTML(value='')))"
      ]
     },
     "metadata": {},
     "output_type": "display_data"
    },
    {
     "name": "stdout",
     "output_type": "stream",
     "text": [
      "Full Test - Loss: 0.45386, AUC: 0.76536\n"
     ]
    },
    {
     "data": {
      "application/vnd.jupyter.widget-view+json": {
       "model_id": "",
       "version_major": 2,
       "version_minor": 0
      },
      "text/plain": [
       "HBox(children=(FloatProgress(value=0.0, max=1.0), HTML(value='')))"
      ]
     },
     "metadata": {},
     "output_type": "display_data"
    },
    {
     "name": "stdout",
     "output_type": "stream",
     "text": [
      "Group3 Test - Loss: 0.45673, AUC: 0.76066\n"
     ]
    }
   ],
   "source": [
    "# validation time ~ 25s @ 1e-5\n",
    "print('Full Test - Loss: {:.5f}, AUC: {:.5f}'.format(*trainer.evaluate(test_loader_full)))\n",
    "print(f'Group{grp_id}'+' Test - Loss: {:.5f}, AUC: {:.5f}'.format(*trainer.evaluate(test_loaders[grp_id-1])))"
   ]
  },
  {
   "cell_type": "markdown",
   "metadata": {
    "hidden": true
   },
   "source": [
    "#### Ensemble "
   ]
  },
  {
   "cell_type": "code",
   "execution_count": 130,
   "metadata": {
    "hidden": true
   },
   "outputs": [
    {
     "name": "stdout",
     "output_type": "stream",
     "text": [
      "['dn121_AP_72k_5e_chkpnt', 'dn121_PA_13k_5e_chkpnt', 'dn121_LL_14k_5e_chkpnt']\n"
     ]
    }
   ],
   "source": [
    "print(samp_savenames)"
   ]
  },
  {
   "cell_type": "code",
   "execution_count": 151,
   "metadata": {
    "hidden": true
   },
   "outputs": [
    {
     "data": {
      "application/vnd.jupyter.widget-view+json": {
       "model_id": "c1931957f9bb43faaab5d19f96a1ca58",
       "version_major": 2,
       "version_minor": 0
      },
      "text/plain": [
       "HBox(children=(FloatProgress(value=0.0, max=1.0), HTML(value='')))"
      ]
     },
     "metadata": {},
     "output_type": "display_data"
    },
    {
     "name": "stdout",
     "output_type": "stream",
     "text": [
      "\n"
     ]
    },
    {
     "data": {
      "application/vnd.jupyter.widget-view+json": {
       "model_id": "028a9a2d43fe462e9acf623620b0d5ce",
       "version_major": 2,
       "version_minor": 0
      },
      "text/plain": [
       "HBox(children=(FloatProgress(value=0.0, max=1.0), HTML(value='')))"
      ]
     },
     "metadata": {},
     "output_type": "display_data"
    },
    {
     "name": "stdout",
     "output_type": "stream",
     "text": [
      "\n"
     ]
    },
    {
     "data": {
      "application/vnd.jupyter.widget-view+json": {
       "model_id": "4cca43cf15a041d9b21f5ed6d2fbc83f",
       "version_major": 2,
       "version_minor": 0
      },
      "text/plain": [
       "HBox(children=(FloatProgress(value=0.0, max=1.0), HTML(value='')))"
      ]
     },
     "metadata": {},
     "output_type": "display_data"
    },
    {
     "name": "stdout",
     "output_type": "stream",
     "text": [
      "\n",
      "ensemble auc: 0.8196709839410827\n"
     ]
    }
   ],
   "source": [
    "base_model = CheXModel('densenet121',use_sig=True)\n",
    "df_ens = ensemble(base_model, samp_savenames, test_loader_full, sigmoid=False, device=DEVICE)\n",
    "ensauc = roc_auc_score(test_loader_full.dataset.labels, df_ens.values, average='micro', multi_class='ovo')\n",
    "print('ensemble auc:',ensauc)"
   ]
  },
  {
   "cell_type": "markdown",
   "metadata": {
    "hidden": true
   },
   "source": [
    "#### Pseudo-Ensemble"
   ]
  },
  {
   "cell_type": "code",
   "execution_count": 150,
   "metadata": {
    "hidden": true
   },
   "outputs": [
    {
     "data": {
      "application/vnd.jupyter.widget-view+json": {
       "model_id": "3d68ef7293334667aa6335651181e836",
       "version_major": 2,
       "version_minor": 0
      },
      "text/plain": [
       "HBox(children=(FloatProgress(value=0.0, max=1.0), HTML(value='')))"
      ]
     },
     "metadata": {},
     "output_type": "display_data"
    },
    {
     "name": "stdout",
     "output_type": "stream",
     "text": [
      "\n"
     ]
    },
    {
     "data": {
      "application/vnd.jupyter.widget-view+json": {
       "model_id": "5257e77502154c9a854fb0de8e1f55ca",
       "version_major": 2,
       "version_minor": 0
      },
      "text/plain": [
       "HBox(children=(FloatProgress(value=0.0, max=1.0), HTML(value='')))"
      ]
     },
     "metadata": {},
     "output_type": "display_data"
    },
    {
     "name": "stdout",
     "output_type": "stream",
     "text": [
      "\n"
     ]
    },
    {
     "data": {
      "application/vnd.jupyter.widget-view+json": {
       "model_id": "8bd08174429a4939a81a836897944b7f",
       "version_major": 2,
       "version_minor": 0
      },
      "text/plain": [
       "HBox(children=(FloatProgress(value=0.0, max=1.0), HTML(value='')))"
      ]
     },
     "metadata": {},
     "output_type": "display_data"
    },
    {
     "name": "stdout",
     "output_type": "stream",
     "text": [
      "\n",
      "pseudo-ensemble auc: 0.8444683930165964\n"
     ]
    }
   ],
   "source": [
    "base_model = CheXModel('densenet121',use_sig=True)\n",
    "df_psens,df_lbls = pseudo_ensemble(base_model, samp_savenames, test_loaders, sigmoid=False, device=DEVICE)\n",
    "psensauc =roc_auc_score(df_lbls.values, df_psens.values, average='micro', multi_class='ovo')\n",
    "print('pseudo-ensemble auc:',psensauc)"
   ]
  },
  {
   "cell_type": "markdown",
   "metadata": {},
   "source": [
    "### Full Dataset"
   ]
  },
  {
   "cell_type": "code",
   "execution_count": 152,
   "metadata": {},
   "outputs": [],
   "source": [
    "full_savenames = []"
   ]
  },
  {
   "cell_type": "markdown",
   "metadata": {},
   "source": [
    "#### Group = AP(1)"
   ]
  },
  {
   "cell_type": "code",
   "execution_count": 156,
   "metadata": {},
   "outputs": [
    {
     "name": "stdout",
     "output_type": "stream",
     "text": [
      "Adjusting learning rate of group 0 to 1.0000e-02.\n",
      "Trainable: 1, Frozen: 241\n"
     ]
    },
    {
     "data": {
      "application/vnd.jupyter.widget-view+json": {
       "model_id": "6ad1bd2fd74c4b5492dd9aa082f575d7",
       "version_major": 2,
       "version_minor": 0
      },
      "text/plain": [
       "HBox(children=(FloatProgress(value=0.0, max=5.0), HTML(value='')))"
      ]
     },
     "metadata": {},
     "output_type": "display_data"
    },
    {
     "data": {
      "application/vnd.jupyter.widget-view+json": {
       "model_id": "",
       "version_major": 2,
       "version_minor": 0
      },
      "text/plain": [
       "HBox(children=(FloatProgress(value=0.0, max=626.0), HTML(value='')))"
      ]
     },
     "metadata": {},
     "output_type": "display_data"
    },
    {
     "data": {
      "application/vnd.jupyter.widget-view+json": {
       "model_id": "",
       "version_major": 2,
       "version_minor": 0
      },
      "text/plain": [
       "HBox(children=(FloatProgress(value=0.0, max=1.0), HTML(value='')))"
      ]
     },
     "metadata": {},
     "output_type": "display_data"
    },
    {
     "name": "stdout",
     "output_type": "stream",
     "text": [
      "Score improved: 0.78343 > 0.00000\n",
      "state dict saved to: save/models/dn121_AP_160k_5efull_chkpnt.pt\n",
      "Adjusting learning rate of group 0 to 1.0000e-03.\n",
      "Epoch [0] train_loss: 0.3986, train_auc: 0.8234, train_auc5: 0.7042, train_time: 679.4817, valid_loss: 0.4748, valid_auc: 0.7834, valid_auc5: 0.6692, valid_time: 1.7801\n"
     ]
    },
    {
     "data": {
      "application/vnd.jupyter.widget-view+json": {
       "model_id": "",
       "version_major": 2,
       "version_minor": 0
      },
      "text/plain": [
       "HBox(children=(FloatProgress(value=0.0, max=626.0), HTML(value='')))"
      ]
     },
     "metadata": {},
     "output_type": "display_data"
    },
    {
     "data": {
      "application/vnd.jupyter.widget-view+json": {
       "model_id": "",
       "version_major": 2,
       "version_minor": 0
      },
      "text/plain": [
       "HBox(children=(FloatProgress(value=0.0, max=1.0), HTML(value='')))"
      ]
     },
     "metadata": {},
     "output_type": "display_data"
    },
    {
     "name": "stdout",
     "output_type": "stream",
     "text": [
      "Score improved: 0.81162 > 0.78343\n",
      "state dict saved to: save/models/dn121_AP_160k_5efull_chkpnt.pt\n",
      "Adjusting learning rate of group 0 to 1.0000e-04.\n",
      "Epoch [1] train_loss: 0.3791, train_auc: 0.8368, train_auc5: 0.7256, train_time: 689.5938, valid_loss: 0.4555, valid_auc: 0.8116, valid_auc5: 0.7200, valid_time: 1.7634\n",
      "Trainable: 66, Frozen: 176\n"
     ]
    },
    {
     "data": {
      "application/vnd.jupyter.widget-view+json": {
       "model_id": "",
       "version_major": 2,
       "version_minor": 0
      },
      "text/plain": [
       "HBox(children=(FloatProgress(value=0.0, max=626.0), HTML(value='')))"
      ]
     },
     "metadata": {},
     "output_type": "display_data"
    },
    {
     "data": {
      "application/vnd.jupyter.widget-view+json": {
       "model_id": "",
       "version_major": 2,
       "version_minor": 0
      },
      "text/plain": [
       "HBox(children=(FloatProgress(value=0.0, max=1.0), HTML(value='')))"
      ]
     },
     "metadata": {},
     "output_type": "display_data"
    },
    {
     "name": "stdout",
     "output_type": "stream",
     "text": [
      "Score improved: 0.83410 > 0.81162\n",
      "state dict saved to: save/models/dn121_AP_160k_5efull_chkpnt.pt\n",
      "Adjusting learning rate of group 0 to 1.0000e-05.\n",
      "Epoch [2] train_loss: 0.3668, train_auc: 0.8490, train_auc5: 0.7533, train_time: 738.7212, valid_loss: 0.4346, valid_auc: 0.8341, valid_auc5: 0.7660, valid_time: 1.7724\n",
      "Trainable: 164, Frozen: 78\n"
     ]
    },
    {
     "data": {
      "application/vnd.jupyter.widget-view+json": {
       "model_id": "",
       "version_major": 2,
       "version_minor": 0
      },
      "text/plain": [
       "HBox(children=(FloatProgress(value=0.0, max=626.0), HTML(value='')))"
      ]
     },
     "metadata": {},
     "output_type": "display_data"
    },
    {
     "data": {
      "application/vnd.jupyter.widget-view+json": {
       "model_id": "",
       "version_major": 2,
       "version_minor": 0
      },
      "text/plain": [
       "HBox(children=(FloatProgress(value=0.0, max=1.0), HTML(value='')))"
      ]
     },
     "metadata": {},
     "output_type": "display_data"
    },
    {
     "name": "stdout",
     "output_type": "stream",
     "text": [
      "Score improved: 0.84289 > 0.83410\n",
      "state dict saved to: save/models/dn121_AP_160k_5efull_chkpnt.pt\n",
      "Adjusting learning rate of group 0 to 1.0000e-05.\n",
      "Epoch [3] train_loss: 0.3563, train_auc: 0.8588, train_auc5: 0.7748, train_time: 1050.1216, valid_loss: 0.4259, valid_auc: 0.8429, valid_auc5: 0.7884, valid_time: 1.7753\n"
     ]
    },
    {
     "data": {
      "application/vnd.jupyter.widget-view+json": {
       "model_id": "",
       "version_major": 2,
       "version_minor": 0
      },
      "text/plain": [
       "HBox(children=(FloatProgress(value=0.0, max=626.0), HTML(value='')))"
      ]
     },
     "metadata": {},
     "output_type": "display_data"
    },
    {
     "data": {
      "application/vnd.jupyter.widget-view+json": {
       "model_id": "",
       "version_major": 2,
       "version_minor": 0
      },
      "text/plain": [
       "HBox(children=(FloatProgress(value=0.0, max=1.0), HTML(value='')))"
      ]
     },
     "metadata": {},
     "output_type": "display_data"
    },
    {
     "name": "stdout",
     "output_type": "stream",
     "text": [
      "Score improved: 0.84477 > 0.84289\n",
      "state dict saved to: save/models/dn121_AP_160k_5efull_chkpnt.pt\n",
      "Adjusting learning rate of group 0 to 1.0000e-05.\n",
      "Epoch [4] train_loss: 0.3523, train_auc: 0.8625, train_auc5: 0.7823, train_time: 1056.4937, valid_loss: 0.4220, valid_auc: 0.8448, valid_auc5: 0.7940, valid_time: 1.7833\n",
      "\n",
      "File saved to: save/histories/dn121_AP_160k_5efull.pkl\n"
     ]
    }
   ],
   "source": [
    "grp_id = 1\n",
    "trainer,savename = train_group(df_full_train, df_full_valid, grp_id, unq='full')\n",
    "full_savenames.append(f'{savename}_chkpnt')"
   ]
  },
  {
   "cell_type": "code",
   "execution_count": 157,
   "metadata": {},
   "outputs": [
    {
     "data": {
      "application/vnd.jupyter.widget-view+json": {
       "model_id": "",
       "version_major": 2,
       "version_minor": 0
      },
      "text/plain": [
       "HBox(children=(FloatProgress(value=0.0, max=1.0), HTML(value='')))"
      ]
     },
     "metadata": {},
     "output_type": "display_data"
    },
    {
     "name": "stdout",
     "output_type": "stream",
     "text": [
      "Full Test - Loss: 0.38636, AUC: 0.82882\n"
     ]
    },
    {
     "data": {
      "application/vnd.jupyter.widget-view+json": {
       "model_id": "",
       "version_major": 2,
       "version_minor": 0
      },
      "text/plain": [
       "HBox(children=(FloatProgress(value=0.0, max=1.0), HTML(value='')))"
      ]
     },
     "metadata": {},
     "output_type": "display_data"
    },
    {
     "name": "stdout",
     "output_type": "stream",
     "text": [
      "Group1 Test - Loss: 0.42253, AUC: 0.84373\n"
     ]
    }
   ],
   "source": [
    "print('Full Test - Loss: {:.5f}, AUC: {:.5f}'.format(*trainer.evaluate(test_loader_full)))\n",
    "print(f'Group{grp_id}'+' Test - Loss: {:.5f}, AUC: {:.5f}'.format(*trainer.evaluate(test_loaders[grp_id-1])))"
   ]
  },
  {
   "cell_type": "markdown",
   "metadata": {
    "heading_collapsed": true
   },
   "source": [
    "#### Group = PA(2)"
   ]
  },
  {
   "cell_type": "code",
   "execution_count": 158,
   "metadata": {
    "hidden": true
   },
   "outputs": [
    {
     "name": "stdout",
     "output_type": "stream",
     "text": [
      "Adjusting learning rate of group 0 to 1.0000e-02.\n",
      "Trainable: 1, Frozen: 241\n"
     ]
    },
    {
     "data": {
      "application/vnd.jupyter.widget-view+json": {
       "model_id": "e8dee97721424bca891f6e657a8f7708",
       "version_major": 2,
       "version_minor": 0
      },
      "text/plain": [
       "HBox(children=(FloatProgress(value=0.0, max=5.0), HTML(value='')))"
      ]
     },
     "metadata": {},
     "output_type": "display_data"
    },
    {
     "data": {
      "application/vnd.jupyter.widget-view+json": {
       "model_id": "",
       "version_major": 2,
       "version_minor": 0
      },
      "text/plain": [
       "HBox(children=(FloatProgress(value=0.0, max=114.0), HTML(value='')))"
      ]
     },
     "metadata": {},
     "output_type": "display_data"
    },
    {
     "data": {
      "application/vnd.jupyter.widget-view+json": {
       "model_id": "",
       "version_major": 2,
       "version_minor": 0
      },
      "text/plain": [
       "HBox(children=(FloatProgress(value=0.0, max=1.0), HTML(value='')))"
      ]
     },
     "metadata": {},
     "output_type": "display_data"
    },
    {
     "name": "stdout",
     "output_type": "stream",
     "text": [
      "Score improved: 0.83543 > 0.00000\n",
      "state dict saved to: save/models/dn121_PA_29k_5efull_chkpnt.pt\n",
      "Adjusting learning rate of group 0 to 1.0000e-03.\n",
      "Epoch [0] train_loss: 0.4076, train_auc: 0.7194, train_auc5: 0.7096, train_time: 132.2090, valid_loss: 0.2433, valid_auc: 0.8354, valid_auc5: 0.7821, valid_time: 0.5810\n"
     ]
    },
    {
     "data": {
      "application/vnd.jupyter.widget-view+json": {
       "model_id": "",
       "version_major": 2,
       "version_minor": 0
      },
      "text/plain": [
       "HBox(children=(FloatProgress(value=0.0, max=114.0), HTML(value='')))"
      ]
     },
     "metadata": {},
     "output_type": "display_data"
    },
    {
     "data": {
      "application/vnd.jupyter.widget-view+json": {
       "model_id": "",
       "version_major": 2,
       "version_minor": 0
      },
      "text/plain": [
       "HBox(children=(FloatProgress(value=0.0, max=1.0), HTML(value='')))"
      ]
     },
     "metadata": {},
     "output_type": "display_data"
    },
    {
     "name": "stdout",
     "output_type": "stream",
     "text": [
      "Score improved: 0.86525 > 0.83543\n",
      "state dict saved to: save/models/dn121_PA_29k_5efull_chkpnt.pt\n",
      "Adjusting learning rate of group 0 to 1.0000e-04.\n",
      "Epoch [1] train_loss: 0.3558, train_auc: 0.7639, train_auc5: 0.7572, train_time: 133.8934, valid_loss: 0.2369, valid_auc: 0.8652, valid_auc5: 0.8533, valid_time: 0.5838\n",
      "Trainable: 66, Frozen: 176\n"
     ]
    },
    {
     "data": {
      "application/vnd.jupyter.widget-view+json": {
       "model_id": "",
       "version_major": 2,
       "version_minor": 0
      },
      "text/plain": [
       "HBox(children=(FloatProgress(value=0.0, max=114.0), HTML(value='')))"
      ]
     },
     "metadata": {},
     "output_type": "display_data"
    },
    {
     "data": {
      "application/vnd.jupyter.widget-view+json": {
       "model_id": "",
       "version_major": 2,
       "version_minor": 0
      },
      "text/plain": [
       "HBox(children=(FloatProgress(value=0.0, max=1.0), HTML(value='')))"
      ]
     },
     "metadata": {},
     "output_type": "display_data"
    },
    {
     "name": "stdout",
     "output_type": "stream",
     "text": [
      "Score improved: 0.88940 > 0.86525\n",
      "state dict saved to: save/models/dn121_PA_29k_5efull_chkpnt.pt\n",
      "Adjusting learning rate of group 0 to 1.0000e-05.\n",
      "Epoch [2] train_loss: 0.3480, train_auc: 0.7776, train_auc5: 0.7770, train_time: 141.0626, valid_loss: 0.2242, valid_auc: 0.8894, valid_auc5: 0.8483, valid_time: 0.5645\n",
      "Trainable: 164, Frozen: 78\n"
     ]
    },
    {
     "data": {
      "application/vnd.jupyter.widget-view+json": {
       "model_id": "",
       "version_major": 2,
       "version_minor": 0
      },
      "text/plain": [
       "HBox(children=(FloatProgress(value=0.0, max=114.0), HTML(value='')))"
      ]
     },
     "metadata": {},
     "output_type": "display_data"
    },
    {
     "data": {
      "application/vnd.jupyter.widget-view+json": {
       "model_id": "",
       "version_major": 2,
       "version_minor": 0
      },
      "text/plain": [
       "HBox(children=(FloatProgress(value=0.0, max=1.0), HTML(value='')))"
      ]
     },
     "metadata": {},
     "output_type": "display_data"
    },
    {
     "name": "stdout",
     "output_type": "stream",
     "text": [
      "Adjusting learning rate of group 0 to 1.0000e-05.\n",
      "Epoch [3] train_loss: 0.3400, train_auc: 0.7906, train_auc5: 0.7942, train_time: 199.5049, valid_loss: 0.2240, valid_auc: 0.8781, valid_auc5: 0.8583, valid_time: 0.5666\n"
     ]
    },
    {
     "data": {
      "application/vnd.jupyter.widget-view+json": {
       "model_id": "",
       "version_major": 2,
       "version_minor": 0
      },
      "text/plain": [
       "HBox(children=(FloatProgress(value=0.0, max=114.0), HTML(value='')))"
      ]
     },
     "metadata": {},
     "output_type": "display_data"
    },
    {
     "data": {
      "application/vnd.jupyter.widget-view+json": {
       "model_id": "",
       "version_major": 2,
       "version_minor": 0
      },
      "text/plain": [
       "HBox(children=(FloatProgress(value=0.0, max=1.0), HTML(value='')))"
      ]
     },
     "metadata": {},
     "output_type": "display_data"
    },
    {
     "name": "stdout",
     "output_type": "stream",
     "text": [
      "Score improved: 0.89014 > 0.88940\n",
      "state dict saved to: save/models/dn121_PA_29k_5efull_chkpnt.pt\n",
      "Adjusting learning rate of group 0 to 1.0000e-05.\n",
      "Epoch [4] train_loss: 0.3366, train_auc: 0.7958, train_auc5: 0.8014, train_time: 197.6195, valid_loss: 0.2164, valid_auc: 0.8901, valid_auc5: 0.8868, valid_time: 0.5705\n",
      "\n",
      "File saved to: save/histories/dn121_PA_29k_5efull.pkl\n"
     ]
    }
   ],
   "source": [
    "grp_id = 2\n",
    "trainer,savename = train_group(df_full_train, df_full_valid, grp_id, unq='full')\n",
    "full_savenames.append(f'{savename}_chkpnt')"
   ]
  },
  {
   "cell_type": "code",
   "execution_count": 159,
   "metadata": {
    "hidden": true
   },
   "outputs": [
    {
     "data": {
      "application/vnd.jupyter.widget-view+json": {
       "model_id": "",
       "version_major": 2,
       "version_minor": 0
      },
      "text/plain": [
       "HBox(children=(FloatProgress(value=0.0, max=1.0), HTML(value='')))"
      ]
     },
     "metadata": {},
     "output_type": "display_data"
    },
    {
     "name": "stdout",
     "output_type": "stream",
     "text": [
      "Full Test - Loss: 0.41605, AUC: 0.80964\n"
     ]
    },
    {
     "data": {
      "application/vnd.jupyter.widget-view+json": {
       "model_id": "",
       "version_major": 2,
       "version_minor": 0
      },
      "text/plain": [
       "HBox(children=(FloatProgress(value=0.0, max=1.0), HTML(value='')))"
      ]
     },
     "metadata": {},
     "output_type": "display_data"
    },
    {
     "name": "stdout",
     "output_type": "stream",
     "text": [
      "Group2 Test - Loss: 0.21887, AUC: 0.89739\n"
     ]
    }
   ],
   "source": [
    "print('Full Test - Loss: {:.5f}, AUC: {:.5f}'.format(*trainer.evaluate(test_loader_full)))\n",
    "print(f'Group{grp_id}'+' Test - Loss: {:.5f}, AUC: {:.5f}'.format(*trainer.evaluate(test_loaders[grp_id-1])))"
   ]
  },
  {
   "cell_type": "markdown",
   "metadata": {
    "heading_collapsed": true
   },
   "source": [
    "#### Group = LL(3)"
   ]
  },
  {
   "cell_type": "code",
   "execution_count": 160,
   "metadata": {
    "hidden": true
   },
   "outputs": [
    {
     "name": "stdout",
     "output_type": "stream",
     "text": [
      "Adjusting learning rate of group 0 to 1.0000e-02.\n",
      "Trainable: 1, Frozen: 241\n"
     ]
    },
    {
     "data": {
      "application/vnd.jupyter.widget-view+json": {
       "model_id": "dc956262d8a54adc89d9d85cb16c6254",
       "version_major": 2,
       "version_minor": 0
      },
      "text/plain": [
       "HBox(children=(FloatProgress(value=0.0, max=5.0), HTML(value='')))"
      ]
     },
     "metadata": {},
     "output_type": "display_data"
    },
    {
     "data": {
      "application/vnd.jupyter.widget-view+json": {
       "model_id": "",
       "version_major": 2,
       "version_minor": 0
      },
      "text/plain": [
       "HBox(children=(FloatProgress(value=0.0, max=126.0), HTML(value='')))"
      ]
     },
     "metadata": {},
     "output_type": "display_data"
    },
    {
     "data": {
      "application/vnd.jupyter.widget-view+json": {
       "model_id": "",
       "version_major": 2,
       "version_minor": 0
      },
      "text/plain": [
       "HBox(children=(FloatProgress(value=0.0, max=1.0), HTML(value='')))"
      ]
     },
     "metadata": {},
     "output_type": "display_data"
    },
    {
     "name": "stdout",
     "output_type": "stream",
     "text": [
      "Score improved: 0.77620 > 0.00000\n",
      "state dict saved to: save/models/dn121_LL_32k_5efull_chkpnt.pt\n",
      "Adjusting learning rate of group 0 to 1.0000e-03.\n",
      "Epoch [0] train_loss: 0.4115, train_auc: 0.7234, train_auc5: 0.7012, train_time: 133.4743, valid_loss: 0.2958, valid_auc: 0.7762, valid_auc5: 0.7813, valid_time: 0.5548\n"
     ]
    },
    {
     "data": {
      "application/vnd.jupyter.widget-view+json": {
       "model_id": "",
       "version_major": 2,
       "version_minor": 0
      },
      "text/plain": [
       "HBox(children=(FloatProgress(value=0.0, max=126.0), HTML(value='')))"
      ]
     },
     "metadata": {},
     "output_type": "display_data"
    },
    {
     "data": {
      "application/vnd.jupyter.widget-view+json": {
       "model_id": "",
       "version_major": 2,
       "version_minor": 0
      },
      "text/plain": [
       "HBox(children=(FloatProgress(value=0.0, max=1.0), HTML(value='')))"
      ]
     },
     "metadata": {},
     "output_type": "display_data"
    },
    {
     "name": "stdout",
     "output_type": "stream",
     "text": [
      "Score improved: 0.79500 > 0.77620\n",
      "state dict saved to: save/models/dn121_LL_32k_5efull_chkpnt.pt\n",
      "Adjusting learning rate of group 0 to 1.0000e-04.\n",
      "Epoch [1] train_loss: 0.3637, train_auc: 0.7631, train_auc5: 0.7459, train_time: 143.9518, valid_loss: 0.2813, valid_auc: 0.7950, valid_auc5: 0.7818, valid_time: 0.5752\n",
      "Trainable: 66, Frozen: 176\n"
     ]
    },
    {
     "data": {
      "application/vnd.jupyter.widget-view+json": {
       "model_id": "",
       "version_major": 2,
       "version_minor": 0
      },
      "text/plain": [
       "HBox(children=(FloatProgress(value=0.0, max=126.0), HTML(value='')))"
      ]
     },
     "metadata": {},
     "output_type": "display_data"
    },
    {
     "data": {
      "application/vnd.jupyter.widget-view+json": {
       "model_id": "",
       "version_major": 2,
       "version_minor": 0
      },
      "text/plain": [
       "HBox(children=(FloatProgress(value=0.0, max=1.0), HTML(value='')))"
      ]
     },
     "metadata": {},
     "output_type": "display_data"
    },
    {
     "name": "stdout",
     "output_type": "stream",
     "text": [
      "Adjusting learning rate of group 0 to 1.0000e-05.\n",
      "Epoch [2] train_loss: 0.3547, train_auc: 0.7787, train_auc5: 0.7676, train_time: 153.9152, valid_loss: 0.2841, valid_auc: 0.7898, valid_auc5: 0.7754, valid_time: 0.5698\n",
      "Trainable: 164, Frozen: 78\n"
     ]
    },
    {
     "data": {
      "application/vnd.jupyter.widget-view+json": {
       "model_id": "",
       "version_major": 2,
       "version_minor": 0
      },
      "text/plain": [
       "HBox(children=(FloatProgress(value=0.0, max=126.0), HTML(value='')))"
      ]
     },
     "metadata": {},
     "output_type": "display_data"
    },
    {
     "data": {
      "application/vnd.jupyter.widget-view+json": {
       "model_id": "",
       "version_major": 2,
       "version_minor": 0
      },
      "text/plain": [
       "HBox(children=(FloatProgress(value=0.0, max=1.0), HTML(value='')))"
      ]
     },
     "metadata": {},
     "output_type": "display_data"
    },
    {
     "name": "stdout",
     "output_type": "stream",
     "text": [
      "Score improved: 0.81781 > 0.79500\n",
      "state dict saved to: save/models/dn121_LL_32k_5efull_chkpnt.pt\n",
      "Adjusting learning rate of group 0 to 1.0000e-05.\n",
      "Epoch [3] train_loss: 0.3468, train_auc: 0.7906, train_auc5: 0.7854, train_time: 219.4082, valid_loss: 0.2730, valid_auc: 0.8178, valid_auc5: 0.8195, valid_time: 0.5584\n"
     ]
    },
    {
     "data": {
      "application/vnd.jupyter.widget-view+json": {
       "model_id": "",
       "version_major": 2,
       "version_minor": 0
      },
      "text/plain": [
       "HBox(children=(FloatProgress(value=0.0, max=126.0), HTML(value='')))"
      ]
     },
     "metadata": {},
     "output_type": "display_data"
    },
    {
     "data": {
      "application/vnd.jupyter.widget-view+json": {
       "model_id": "",
       "version_major": 2,
       "version_minor": 0
      },
      "text/plain": [
       "HBox(children=(FloatProgress(value=0.0, max=1.0), HTML(value='')))"
      ]
     },
     "metadata": {},
     "output_type": "display_data"
    },
    {
     "name": "stdout",
     "output_type": "stream",
     "text": [
      "Score improved: 0.83495 > 0.81781\n",
      "state dict saved to: save/models/dn121_LL_32k_5efull_chkpnt.pt\n",
      "Adjusting learning rate of group 0 to 1.0000e-05.\n",
      "Epoch [4] train_loss: 0.3436, train_auc: 0.7956, train_auc5: 0.7921, train_time: 217.7271, valid_loss: 0.2660, valid_auc: 0.8349, valid_auc5: 0.8474, valid_time: 0.5632\n",
      "\n",
      "File saved to: save/histories/dn121_LL_32k_5efull.pkl\n"
     ]
    }
   ],
   "source": [
    "grp_id = 3\n",
    "trainer,savename = train_group(df_full_train, df_full_valid, grp_id, unq='full')\n",
    "full_savenames.append(f'{savename}_chkpnt')"
   ]
  },
  {
   "cell_type": "code",
   "execution_count": 161,
   "metadata": {
    "hidden": true
   },
   "outputs": [
    {
     "data": {
      "application/vnd.jupyter.widget-view+json": {
       "model_id": "",
       "version_major": 2,
       "version_minor": 0
      },
      "text/plain": [
       "HBox(children=(FloatProgress(value=0.0, max=1.0), HTML(value='')))"
      ]
     },
     "metadata": {},
     "output_type": "display_data"
    },
    {
     "name": "stdout",
     "output_type": "stream",
     "text": [
      "Full Test - Loss: 0.45675, AUC: 0.75876\n"
     ]
    },
    {
     "data": {
      "application/vnd.jupyter.widget-view+json": {
       "model_id": "",
       "version_major": 2,
       "version_minor": 0
      },
      "text/plain": [
       "HBox(children=(FloatProgress(value=0.0, max=1.0), HTML(value='')))"
      ]
     },
     "metadata": {},
     "output_type": "display_data"
    },
    {
     "name": "stdout",
     "output_type": "stream",
     "text": [
      "Group3 Test - Loss: 0.26008, AUC: 0.84839\n"
     ]
    }
   ],
   "source": [
    "print('Full Test - Loss: {:.5f}, AUC: {:.5f}'.format(*trainer.evaluate(test_loader_full)))\n",
    "print(f'Group{grp_id}'+' Test - Loss: {:.5f}, AUC: {:.5f}'.format(*trainer.evaluate(test_loaders[grp_id-1])))"
   ]
  },
  {
   "cell_type": "markdown",
   "metadata": {},
   "source": [
    "#### Ensemble "
   ]
  },
  {
   "cell_type": "code",
   "execution_count": 162,
   "metadata": {},
   "outputs": [
    {
     "name": "stdout",
     "output_type": "stream",
     "text": [
      "['dn121_AP_160k_5efull_chkpnt', 'dn121_PA_29k_5efull_chkpnt', 'dn121_LL_32k_5efull_chkpnt']\n"
     ]
    }
   ],
   "source": [
    "print(full_savenames)"
   ]
  },
  {
   "cell_type": "code",
   "execution_count": 19,
   "metadata": {},
   "outputs": [],
   "source": [
    "gt_labels = df_full_valid.sort_index()[C.TARGET_LABELS].values"
   ]
  },
  {
   "cell_type": "code",
   "execution_count": 23,
   "metadata": {},
   "outputs": [
    {
     "data": {
      "application/vnd.jupyter.widget-view+json": {
       "model_id": "afb2e8d33c324745a2651c039865b3aa",
       "version_major": 2,
       "version_minor": 0
      },
      "text/plain": [
       "HBox(children=(FloatProgress(value=0.0, max=1.0), HTML(value='')))"
      ]
     },
     "metadata": {},
     "output_type": "display_data"
    },
    {
     "name": "stdout",
     "output_type": "stream",
     "text": [
      "\n"
     ]
    },
    {
     "data": {
      "application/vnd.jupyter.widget-view+json": {
       "model_id": "7723dfb0a1364dcda88ddc2c075d382e",
       "version_major": 2,
       "version_minor": 0
      },
      "text/plain": [
       "HBox(children=(FloatProgress(value=0.0, max=1.0), HTML(value='')))"
      ]
     },
     "metadata": {},
     "output_type": "display_data"
    },
    {
     "name": "stdout",
     "output_type": "stream",
     "text": [
      "\n"
     ]
    },
    {
     "data": {
      "application/vnd.jupyter.widget-view+json": {
       "model_id": "6890244ee2aa4b67b11e2be29a7211c2",
       "version_major": 2,
       "version_minor": 0
      },
      "text/plain": [
       "HBox(children=(FloatProgress(value=0.0, max=1.0), HTML(value='')))"
      ]
     },
     "metadata": {},
     "output_type": "display_data"
    },
    {
     "name": "stdout",
     "output_type": "stream",
     "text": [
      "\n",
      "Full ensemble auc: 0.8190602020450836\n"
     ]
    }
   ],
   "source": [
    "base_model = CheXModel('densenet121',use_sig=True)\n",
    "df_ens = ensemble(base_model, full_savenames, test_loader_full, sigmoid=False, device=DEVICE)\n",
    "fensauc = roc_auc_score(gt_labels, df_ens.sort_index().values, average='micro', multi_class='ovo')\n",
    "print('Full ensemble auc:',fensauc)"
   ]
  },
  {
   "cell_type": "markdown",
   "metadata": {},
   "source": [
    "#### Pseudo-Ensemble"
   ]
  },
  {
   "cell_type": "code",
   "execution_count": 30,
   "metadata": {},
   "outputs": [
    {
     "data": {
      "application/vnd.jupyter.widget-view+json": {
       "model_id": "1b95d6b173aa4837914d7b2ef00f26e9",
       "version_major": 2,
       "version_minor": 0
      },
      "text/plain": [
       "HBox(children=(FloatProgress(value=0.0, max=1.0), HTML(value='')))"
      ]
     },
     "metadata": {},
     "output_type": "display_data"
    },
    {
     "name": "stdout",
     "output_type": "stream",
     "text": [
      "\n"
     ]
    },
    {
     "data": {
      "application/vnd.jupyter.widget-view+json": {
       "model_id": "de14b8901ef64e87a8781704298a3204",
       "version_major": 2,
       "version_minor": 0
      },
      "text/plain": [
       "HBox(children=(FloatProgress(value=0.0, max=1.0), HTML(value='')))"
      ]
     },
     "metadata": {},
     "output_type": "display_data"
    },
    {
     "name": "stdout",
     "output_type": "stream",
     "text": [
      "\n"
     ]
    },
    {
     "data": {
      "application/vnd.jupyter.widget-view+json": {
       "model_id": "149a0f212e4149758cc3944d118e11f3",
       "version_major": 2,
       "version_minor": 0
      },
      "text/plain": [
       "HBox(children=(FloatProgress(value=0.0, max=1.0), HTML(value='')))"
      ]
     },
     "metadata": {},
     "output_type": "display_data"
    },
    {
     "name": "stdout",
     "output_type": "stream",
     "text": [
      "\n",
      "Full pseudo-ensemble auc: 0.8488188844133051\n"
     ]
    }
   ],
   "source": [
    "base_model = CheXModel('densenet121',use_sig=True)\n",
    "df_psens,df_lbls = pseudo_ensemble(base_model, full_savenames, test_loaders, sigmoid=False, device=DEVICE)\n",
    "fpsensauc = roc_auc_score(df_lbls.values, df_psens.values, average='micro', multi_class='ovo')\n",
    "print('Full pseudo-ensemble auc:',fpsensauc)"
   ]
  },
  {
   "cell_type": "markdown",
   "metadata": {},
   "source": [
    "## Pseudo-Ensemble with TTA 10 Inference"
   ]
  },
  {
   "cell_type": "code",
   "execution_count": 17,
   "metadata": {},
   "outputs": [],
   "source": [
    "samp_savenames=['dn121_AP_72k_5e_chkpnt', 'dn121_PA_13k_5e_chkpnt', 'dn121_LL_14k_5e_chkpnt']\n",
    "full_savenames=['dn121_AP_160k_5efull_chkpnt', 'dn121_PA_29k_5efull_chkpnt', 'dn121_LL_32k_5efull_chkpnt']"
   ]
  },
  {
   "cell_type": "code",
   "execution_count": 95,
   "metadata": {},
   "outputs": [],
   "source": [
    "def multi_ensemble(df_valid, save_names, pseduo_ens=True, n=10, batch_size=256):\n",
    "    dfs_preds10 = []\n",
    "    ensemble_fn = pseudo_ensemble if pseduo_ens else ensemble\n",
    "    dfv = df_valid.sort_index()\n",
    "    for i in tqdm(range(10)):\n",
    "        if pseudo_ensemble:\n",
    "            tloaders = [subset_dloader(dfv,i,False,grp_name='Posit_ID',\n",
    "                                   batch_size=batch_size, print_tfms=False) for i in [1,2,3]]\n",
    "        else:\n",
    "            tloaders = [subset_dloader(dfv,None,False, batch_size=batch_size, print_tfms=False)]*3\n",
    "        basemodel = CheXModel('densenet121',use_sig=True)\n",
    "        df_psens,df_lbls = ensemble_fn(basemodel, save_names, tloaders, sigmoid=False, device=DEVICE)\n",
    "        fpsensauc = roc_auc_score(df_lbls.values, df_psens.values, average='micro', multi_class='ovo')\n",
    "        print(fpsensauc)\n",
    "        dfs_preds10.append(df_psens.sort_index())\n",
    "        \n",
    "    return dfs_preds10"
   ]
  },
  {
   "cell_type": "code",
   "execution_count": 93,
   "metadata": {},
   "outputs": [],
   "source": [
    "def prob_ensemble(dfs, weights=None):\n",
    "    n_predset = len(dfs)\n",
    "    if weights is None:\n",
    "        weights = [1/n_predset]*n_predset\n",
    "    assert len(weights) == n_predset, 'each model prediction set must be assigned a weight'\n",
    "        \n",
    "    prob_df = sum(df*w for df,w in zip(dfs,weights))/sum(weights)\n",
    "    return prob_df"
   ]
  },
  {
   "cell_type": "code",
   "execution_count": 18,
   "metadata": {
    "scrolled": true
   },
   "outputs": [
    {
     "data": {
      "application/vnd.jupyter.widget-view+json": {
       "model_id": "72d39c2eb68944a497350198f51ba62a",
       "version_major": 2,
       "version_minor": 0
      },
      "text/plain": [
       "HBox(children=(HTML(value=''), FloatProgress(value=0.0, max=10.0), HTML(value='')))"
      ]
     },
     "metadata": {},
     "output_type": "display_data"
    },
    {
     "data": {
      "application/vnd.jupyter.widget-view+json": {
       "model_id": "",
       "version_major": 2,
       "version_minor": 0
      },
      "text/plain": [
       "HBox(children=(HTML(value=''), FloatProgress(value=0.0, max=3.0), HTML(value='')))"
      ]
     },
     "metadata": {},
     "output_type": "display_data"
    },
    {
     "data": {
      "application/vnd.jupyter.widget-view+json": {
       "model_id": "",
       "version_major": 2,
       "version_minor": 0
      },
      "text/plain": [
       "HBox(children=(HTML(value=''), FloatProgress(value=0.0, max=1.0), HTML(value='')))"
      ]
     },
     "metadata": {},
     "output_type": "display_data"
    },
    {
     "data": {
      "application/vnd.jupyter.widget-view+json": {
       "model_id": "",
       "version_major": 2,
       "version_minor": 0
      },
      "text/plain": [
       "HBox(children=(HTML(value=''), FloatProgress(value=0.0, max=1.0), HTML(value='')))"
      ]
     },
     "metadata": {},
     "output_type": "display_data"
    },
    {
     "name": "stdout",
     "output_type": "stream",
     "text": [
      "0.8499458357942824\n"
     ]
    },
    {
     "data": {
      "application/vnd.jupyter.widget-view+json": {
       "model_id": "",
       "version_major": 2,
       "version_minor": 0
      },
      "text/plain": [
       "HBox(children=(HTML(value=''), FloatProgress(value=0.0, max=3.0), HTML(value='')))"
      ]
     },
     "metadata": {},
     "output_type": "display_data"
    },
    {
     "data": {
      "application/vnd.jupyter.widget-view+json": {
       "model_id": "",
       "version_major": 2,
       "version_minor": 0
      },
      "text/plain": [
       "HBox(children=(HTML(value=''), FloatProgress(value=0.0, max=1.0), HTML(value='')))"
      ]
     },
     "metadata": {},
     "output_type": "display_data"
    },
    {
     "data": {
      "application/vnd.jupyter.widget-view+json": {
       "model_id": "",
       "version_major": 2,
       "version_minor": 0
      },
      "text/plain": [
       "HBox(children=(HTML(value=''), FloatProgress(value=0.0, max=1.0), HTML(value='')))"
      ]
     },
     "metadata": {},
     "output_type": "display_data"
    },
    {
     "name": "stdout",
     "output_type": "stream",
     "text": [
      "0.847853725853541\n"
     ]
    },
    {
     "data": {
      "application/vnd.jupyter.widget-view+json": {
       "model_id": "",
       "version_major": 2,
       "version_minor": 0
      },
      "text/plain": [
       "HBox(children=(HTML(value=''), FloatProgress(value=0.0, max=3.0), HTML(value='')))"
      ]
     },
     "metadata": {},
     "output_type": "display_data"
    },
    {
     "data": {
      "application/vnd.jupyter.widget-view+json": {
       "model_id": "",
       "version_major": 2,
       "version_minor": 0
      },
      "text/plain": [
       "HBox(children=(HTML(value=''), FloatProgress(value=0.0, max=1.0), HTML(value='')))"
      ]
     },
     "metadata": {},
     "output_type": "display_data"
    },
    {
     "data": {
      "application/vnd.jupyter.widget-view+json": {
       "model_id": "",
       "version_major": 2,
       "version_minor": 0
      },
      "text/plain": [
       "HBox(children=(HTML(value=''), FloatProgress(value=0.0, max=1.0), HTML(value='')))"
      ]
     },
     "metadata": {},
     "output_type": "display_data"
    },
    {
     "name": "stdout",
     "output_type": "stream",
     "text": [
      "0.8512412980374922\n"
     ]
    },
    {
     "data": {
      "application/vnd.jupyter.widget-view+json": {
       "model_id": "",
       "version_major": 2,
       "version_minor": 0
      },
      "text/plain": [
       "HBox(children=(HTML(value=''), FloatProgress(value=0.0, max=3.0), HTML(value='')))"
      ]
     },
     "metadata": {},
     "output_type": "display_data"
    },
    {
     "data": {
      "application/vnd.jupyter.widget-view+json": {
       "model_id": "",
       "version_major": 2,
       "version_minor": 0
      },
      "text/plain": [
       "HBox(children=(HTML(value=''), FloatProgress(value=0.0, max=1.0), HTML(value='')))"
      ]
     },
     "metadata": {},
     "output_type": "display_data"
    },
    {
     "data": {
      "application/vnd.jupyter.widget-view+json": {
       "model_id": "",
       "version_major": 2,
       "version_minor": 0
      },
      "text/plain": [
       "HBox(children=(HTML(value=''), FloatProgress(value=0.0, max=1.0), HTML(value='')))"
      ]
     },
     "metadata": {},
     "output_type": "display_data"
    },
    {
     "name": "stdout",
     "output_type": "stream",
     "text": [
      "0.850342760051169\n"
     ]
    },
    {
     "data": {
      "application/vnd.jupyter.widget-view+json": {
       "model_id": "",
       "version_major": 2,
       "version_minor": 0
      },
      "text/plain": [
       "HBox(children=(HTML(value=''), FloatProgress(value=0.0, max=3.0), HTML(value='')))"
      ]
     },
     "metadata": {},
     "output_type": "display_data"
    },
    {
     "data": {
      "application/vnd.jupyter.widget-view+json": {
       "model_id": "",
       "version_major": 2,
       "version_minor": 0
      },
      "text/plain": [
       "HBox(children=(HTML(value=''), FloatProgress(value=0.0, max=1.0), HTML(value='')))"
      ]
     },
     "metadata": {},
     "output_type": "display_data"
    },
    {
     "data": {
      "application/vnd.jupyter.widget-view+json": {
       "model_id": "",
       "version_major": 2,
       "version_minor": 0
      },
      "text/plain": [
       "HBox(children=(HTML(value=''), FloatProgress(value=0.0, max=1.0), HTML(value='')))"
      ]
     },
     "metadata": {},
     "output_type": "display_data"
    },
    {
     "name": "stdout",
     "output_type": "stream",
     "text": [
      "0.8471931184866494\n"
     ]
    },
    {
     "data": {
      "application/vnd.jupyter.widget-view+json": {
       "model_id": "",
       "version_major": 2,
       "version_minor": 0
      },
      "text/plain": [
       "HBox(children=(HTML(value=''), FloatProgress(value=0.0, max=3.0), HTML(value='')))"
      ]
     },
     "metadata": {},
     "output_type": "display_data"
    },
    {
     "data": {
      "application/vnd.jupyter.widget-view+json": {
       "model_id": "",
       "version_major": 2,
       "version_minor": 0
      },
      "text/plain": [
       "HBox(children=(HTML(value=''), FloatProgress(value=0.0, max=1.0), HTML(value='')))"
      ]
     },
     "metadata": {},
     "output_type": "display_data"
    },
    {
     "data": {
      "application/vnd.jupyter.widget-view+json": {
       "model_id": "",
       "version_major": 2,
       "version_minor": 0
      },
      "text/plain": [
       "HBox(children=(HTML(value=''), FloatProgress(value=0.0, max=1.0), HTML(value='')))"
      ]
     },
     "metadata": {},
     "output_type": "display_data"
    },
    {
     "name": "stdout",
     "output_type": "stream",
     "text": [
      "0.84636232074727\n"
     ]
    },
    {
     "data": {
      "application/vnd.jupyter.widget-view+json": {
       "model_id": "",
       "version_major": 2,
       "version_minor": 0
      },
      "text/plain": [
       "HBox(children=(HTML(value=''), FloatProgress(value=0.0, max=3.0), HTML(value='')))"
      ]
     },
     "metadata": {},
     "output_type": "display_data"
    },
    {
     "data": {
      "application/vnd.jupyter.widget-view+json": {
       "model_id": "",
       "version_major": 2,
       "version_minor": 0
      },
      "text/plain": [
       "HBox(children=(HTML(value=''), FloatProgress(value=0.0, max=1.0), HTML(value='')))"
      ]
     },
     "metadata": {},
     "output_type": "display_data"
    },
    {
     "data": {
      "application/vnd.jupyter.widget-view+json": {
       "model_id": "",
       "version_major": 2,
       "version_minor": 0
      },
      "text/plain": [
       "HBox(children=(HTML(value=''), FloatProgress(value=0.0, max=1.0), HTML(value='')))"
      ]
     },
     "metadata": {},
     "output_type": "display_data"
    },
    {
     "name": "stdout",
     "output_type": "stream",
     "text": [
      "0.851375938776253\n"
     ]
    },
    {
     "data": {
      "application/vnd.jupyter.widget-view+json": {
       "model_id": "",
       "version_major": 2,
       "version_minor": 0
      },
      "text/plain": [
       "HBox(children=(HTML(value=''), FloatProgress(value=0.0, max=3.0), HTML(value='')))"
      ]
     },
     "metadata": {},
     "output_type": "display_data"
    },
    {
     "data": {
      "application/vnd.jupyter.widget-view+json": {
       "model_id": "",
       "version_major": 2,
       "version_minor": 0
      },
      "text/plain": [
       "HBox(children=(HTML(value=''), FloatProgress(value=0.0, max=1.0), HTML(value='')))"
      ]
     },
     "metadata": {},
     "output_type": "display_data"
    },
    {
     "data": {
      "application/vnd.jupyter.widget-view+json": {
       "model_id": "",
       "version_major": 2,
       "version_minor": 0
      },
      "text/plain": [
       "HBox(children=(HTML(value=''), FloatProgress(value=0.0, max=1.0), HTML(value='')))"
      ]
     },
     "metadata": {},
     "output_type": "display_data"
    },
    {
     "name": "stdout",
     "output_type": "stream",
     "text": [
      "0.851347667020297\n"
     ]
    },
    {
     "data": {
      "application/vnd.jupyter.widget-view+json": {
       "model_id": "",
       "version_major": 2,
       "version_minor": 0
      },
      "text/plain": [
       "HBox(children=(HTML(value=''), FloatProgress(value=0.0, max=3.0), HTML(value='')))"
      ]
     },
     "metadata": {},
     "output_type": "display_data"
    },
    {
     "data": {
      "application/vnd.jupyter.widget-view+json": {
       "model_id": "",
       "version_major": 2,
       "version_minor": 0
      },
      "text/plain": [
       "HBox(children=(HTML(value=''), FloatProgress(value=0.0, max=1.0), HTML(value='')))"
      ]
     },
     "metadata": {},
     "output_type": "display_data"
    },
    {
     "data": {
      "application/vnd.jupyter.widget-view+json": {
       "model_id": "",
       "version_major": 2,
       "version_minor": 0
      },
      "text/plain": [
       "HBox(children=(HTML(value=''), FloatProgress(value=0.0, max=1.0), HTML(value='')))"
      ]
     },
     "metadata": {},
     "output_type": "display_data"
    },
    {
     "name": "stdout",
     "output_type": "stream",
     "text": [
      "0.847915867732969\n"
     ]
    },
    {
     "data": {
      "application/vnd.jupyter.widget-view+json": {
       "model_id": "",
       "version_major": 2,
       "version_minor": 0
      },
      "text/plain": [
       "HBox(children=(HTML(value=''), FloatProgress(value=0.0, max=3.0), HTML(value='')))"
      ]
     },
     "metadata": {},
     "output_type": "display_data"
    },
    {
     "data": {
      "application/vnd.jupyter.widget-view+json": {
       "model_id": "",
       "version_major": 2,
       "version_minor": 0
      },
      "text/plain": [
       "HBox(children=(HTML(value=''), FloatProgress(value=0.0, max=1.0), HTML(value='')))"
      ]
     },
     "metadata": {},
     "output_type": "display_data"
    },
    {
     "data": {
      "application/vnd.jupyter.widget-view+json": {
       "model_id": "",
       "version_major": 2,
       "version_minor": 0
      },
      "text/plain": [
       "HBox(children=(HTML(value=''), FloatProgress(value=0.0, max=1.0), HTML(value='')))"
      ]
     },
     "metadata": {},
     "output_type": "display_data"
    },
    {
     "name": "stdout",
     "output_type": "stream",
     "text": [
      "0.8505812505073522\n",
      "\n"
     ]
    }
   ],
   "source": [
    "dfs_mpe10 = multi_ensemble(df_full_valid, full_savenames, batch_size=64)\n",
    "df_p10 = prob_ensemble(dfs_mpe10)\n",
    "df_p10.sort_index().to_csv('save/preds/Pens_Fmodel_test_TTA10.csv')"
   ]
  },
  {
   "cell_type": "code",
   "execution_count": 83,
   "metadata": {},
   "outputs": [
    {
     "data": {
      "application/vnd.jupyter.widget-view+json": {
       "model_id": "b0ec97e92fc14dcc90819f37e9ca4b51",
       "version_major": 2,
       "version_minor": 0
      },
      "text/plain": [
       "HBox(children=(HTML(value=''), FloatProgress(value=0.0, max=10.0), HTML(value='')))"
      ]
     },
     "metadata": {},
     "output_type": "display_data"
    },
    {
     "data": {
      "application/vnd.jupyter.widget-view+json": {
       "model_id": "",
       "version_major": 2,
       "version_minor": 0
      },
      "text/plain": [
       "HBox(children=(HTML(value=''), FloatProgress(value=0.0, max=3.0), HTML(value='')))"
      ]
     },
     "metadata": {},
     "output_type": "display_data"
    },
    {
     "data": {
      "application/vnd.jupyter.widget-view+json": {
       "model_id": "",
       "version_major": 2,
       "version_minor": 0
      },
      "text/plain": [
       "HBox(children=(HTML(value=''), FloatProgress(value=0.0, max=1.0), HTML(value='')))"
      ]
     },
     "metadata": {},
     "output_type": "display_data"
    },
    {
     "data": {
      "application/vnd.jupyter.widget-view+json": {
       "model_id": "",
       "version_major": 2,
       "version_minor": 0
      },
      "text/plain": [
       "HBox(children=(HTML(value=''), FloatProgress(value=0.0, max=1.0), HTML(value='')))"
      ]
     },
     "metadata": {},
     "output_type": "display_data"
    },
    {
     "name": "stdout",
     "output_type": "stream",
     "text": [
      "0.8447986967000424\n"
     ]
    },
    {
     "data": {
      "application/vnd.jupyter.widget-view+json": {
       "model_id": "",
       "version_major": 2,
       "version_minor": 0
      },
      "text/plain": [
       "HBox(children=(HTML(value=''), FloatProgress(value=0.0, max=3.0), HTML(value='')))"
      ]
     },
     "metadata": {},
     "output_type": "display_data"
    },
    {
     "data": {
      "application/vnd.jupyter.widget-view+json": {
       "model_id": "",
       "version_major": 2,
       "version_minor": 0
      },
      "text/plain": [
       "HBox(children=(HTML(value=''), FloatProgress(value=0.0, max=1.0), HTML(value='')))"
      ]
     },
     "metadata": {},
     "output_type": "display_data"
    },
    {
     "data": {
      "application/vnd.jupyter.widget-view+json": {
       "model_id": "",
       "version_major": 2,
       "version_minor": 0
      },
      "text/plain": [
       "HBox(children=(HTML(value=''), FloatProgress(value=0.0, max=1.0), HTML(value='')))"
      ]
     },
     "metadata": {},
     "output_type": "display_data"
    },
    {
     "name": "stdout",
     "output_type": "stream",
     "text": [
      "0.8418063692627231\n"
     ]
    },
    {
     "data": {
      "application/vnd.jupyter.widget-view+json": {
       "model_id": "",
       "version_major": 2,
       "version_minor": 0
      },
      "text/plain": [
       "HBox(children=(HTML(value=''), FloatProgress(value=0.0, max=3.0), HTML(value='')))"
      ]
     },
     "metadata": {},
     "output_type": "display_data"
    },
    {
     "data": {
      "application/vnd.jupyter.widget-view+json": {
       "model_id": "",
       "version_major": 2,
       "version_minor": 0
      },
      "text/plain": [
       "HBox(children=(HTML(value=''), FloatProgress(value=0.0, max=1.0), HTML(value='')))"
      ]
     },
     "metadata": {},
     "output_type": "display_data"
    },
    {
     "data": {
      "application/vnd.jupyter.widget-view+json": {
       "model_id": "",
       "version_major": 2,
       "version_minor": 0
      },
      "text/plain": [
       "HBox(children=(HTML(value=''), FloatProgress(value=0.0, max=1.0), HTML(value='')))"
      ]
     },
     "metadata": {},
     "output_type": "display_data"
    },
    {
     "name": "stdout",
     "output_type": "stream",
     "text": [
      "0.8428314303549085\n"
     ]
    },
    {
     "data": {
      "application/vnd.jupyter.widget-view+json": {
       "model_id": "",
       "version_major": 2,
       "version_minor": 0
      },
      "text/plain": [
       "HBox(children=(HTML(value=''), FloatProgress(value=0.0, max=3.0), HTML(value='')))"
      ]
     },
     "metadata": {},
     "output_type": "display_data"
    },
    {
     "data": {
      "application/vnd.jupyter.widget-view+json": {
       "model_id": "",
       "version_major": 2,
       "version_minor": 0
      },
      "text/plain": [
       "HBox(children=(HTML(value=''), FloatProgress(value=0.0, max=1.0), HTML(value='')))"
      ]
     },
     "metadata": {},
     "output_type": "display_data"
    },
    {
     "data": {
      "application/vnd.jupyter.widget-view+json": {
       "model_id": "",
       "version_major": 2,
       "version_minor": 0
      },
      "text/plain": [
       "HBox(children=(HTML(value=''), FloatProgress(value=0.0, max=1.0), HTML(value='')))"
      ]
     },
     "metadata": {},
     "output_type": "display_data"
    },
    {
     "name": "stdout",
     "output_type": "stream",
     "text": [
      "0.8437988282616788\n"
     ]
    },
    {
     "data": {
      "application/vnd.jupyter.widget-view+json": {
       "model_id": "",
       "version_major": 2,
       "version_minor": 0
      },
      "text/plain": [
       "HBox(children=(HTML(value=''), FloatProgress(value=0.0, max=3.0), HTML(value='')))"
      ]
     },
     "metadata": {},
     "output_type": "display_data"
    },
    {
     "data": {
      "application/vnd.jupyter.widget-view+json": {
       "model_id": "",
       "version_major": 2,
       "version_minor": 0
      },
      "text/plain": [
       "HBox(children=(HTML(value=''), FloatProgress(value=0.0, max=1.0), HTML(value='')))"
      ]
     },
     "metadata": {},
     "output_type": "display_data"
    },
    {
     "data": {
      "application/vnd.jupyter.widget-view+json": {
       "model_id": "",
       "version_major": 2,
       "version_minor": 0
      },
      "text/plain": [
       "HBox(children=(HTML(value=''), FloatProgress(value=0.0, max=1.0), HTML(value='')))"
      ]
     },
     "metadata": {},
     "output_type": "display_data"
    },
    {
     "name": "stdout",
     "output_type": "stream",
     "text": [
      "0.8399079628380365\n"
     ]
    },
    {
     "data": {
      "application/vnd.jupyter.widget-view+json": {
       "model_id": "",
       "version_major": 2,
       "version_minor": 0
      },
      "text/plain": [
       "HBox(children=(HTML(value=''), FloatProgress(value=0.0, max=3.0), HTML(value='')))"
      ]
     },
     "metadata": {},
     "output_type": "display_data"
    },
    {
     "data": {
      "application/vnd.jupyter.widget-view+json": {
       "model_id": "",
       "version_major": 2,
       "version_minor": 0
      },
      "text/plain": [
       "HBox(children=(HTML(value=''), FloatProgress(value=0.0, max=1.0), HTML(value='')))"
      ]
     },
     "metadata": {},
     "output_type": "display_data"
    },
    {
     "data": {
      "application/vnd.jupyter.widget-view+json": {
       "model_id": "",
       "version_major": 2,
       "version_minor": 0
      },
      "text/plain": [
       "HBox(children=(HTML(value=''), FloatProgress(value=0.0, max=1.0), HTML(value='')))"
      ]
     },
     "metadata": {},
     "output_type": "display_data"
    },
    {
     "name": "stdout",
     "output_type": "stream",
     "text": [
      "0.8439471850008539\n"
     ]
    },
    {
     "data": {
      "application/vnd.jupyter.widget-view+json": {
       "model_id": "",
       "version_major": 2,
       "version_minor": 0
      },
      "text/plain": [
       "HBox(children=(HTML(value=''), FloatProgress(value=0.0, max=3.0), HTML(value='')))"
      ]
     },
     "metadata": {},
     "output_type": "display_data"
    },
    {
     "data": {
      "application/vnd.jupyter.widget-view+json": {
       "model_id": "",
       "version_major": 2,
       "version_minor": 0
      },
      "text/plain": [
       "HBox(children=(HTML(value=''), FloatProgress(value=0.0, max=1.0), HTML(value='')))"
      ]
     },
     "metadata": {},
     "output_type": "display_data"
    },
    {
     "data": {
      "application/vnd.jupyter.widget-view+json": {
       "model_id": "",
       "version_major": 2,
       "version_minor": 0
      },
      "text/plain": [
       "HBox(children=(HTML(value=''), FloatProgress(value=0.0, max=1.0), HTML(value='')))"
      ]
     },
     "metadata": {},
     "output_type": "display_data"
    },
    {
     "name": "stdout",
     "output_type": "stream",
     "text": [
      "0.8390514126080835\n"
     ]
    },
    {
     "data": {
      "application/vnd.jupyter.widget-view+json": {
       "model_id": "",
       "version_major": 2,
       "version_minor": 0
      },
      "text/plain": [
       "HBox(children=(HTML(value=''), FloatProgress(value=0.0, max=3.0), HTML(value='')))"
      ]
     },
     "metadata": {},
     "output_type": "display_data"
    },
    {
     "data": {
      "application/vnd.jupyter.widget-view+json": {
       "model_id": "",
       "version_major": 2,
       "version_minor": 0
      },
      "text/plain": [
       "HBox(children=(HTML(value=''), FloatProgress(value=0.0, max=1.0), HTML(value='')))"
      ]
     },
     "metadata": {},
     "output_type": "display_data"
    },
    {
     "data": {
      "application/vnd.jupyter.widget-view+json": {
       "model_id": "",
       "version_major": 2,
       "version_minor": 0
      },
      "text/plain": [
       "HBox(children=(HTML(value=''), FloatProgress(value=0.0, max=1.0), HTML(value='')))"
      ]
     },
     "metadata": {},
     "output_type": "display_data"
    },
    {
     "name": "stdout",
     "output_type": "stream",
     "text": [
      "0.8435043541303356\n"
     ]
    },
    {
     "data": {
      "application/vnd.jupyter.widget-view+json": {
       "model_id": "",
       "version_major": 2,
       "version_minor": 0
      },
      "text/plain": [
       "HBox(children=(HTML(value=''), FloatProgress(value=0.0, max=3.0), HTML(value='')))"
      ]
     },
     "metadata": {},
     "output_type": "display_data"
    },
    {
     "data": {
      "application/vnd.jupyter.widget-view+json": {
       "model_id": "",
       "version_major": 2,
       "version_minor": 0
      },
      "text/plain": [
       "HBox(children=(HTML(value=''), FloatProgress(value=0.0, max=1.0), HTML(value='')))"
      ]
     },
     "metadata": {},
     "output_type": "display_data"
    },
    {
     "data": {
      "application/vnd.jupyter.widget-view+json": {
       "model_id": "",
       "version_major": 2,
       "version_minor": 0
      },
      "text/plain": [
       "HBox(children=(HTML(value=''), FloatProgress(value=0.0, max=1.0), HTML(value='')))"
      ]
     },
     "metadata": {},
     "output_type": "display_data"
    },
    {
     "name": "stdout",
     "output_type": "stream",
     "text": [
      "0.8403603109333317\n"
     ]
    },
    {
     "data": {
      "application/vnd.jupyter.widget-view+json": {
       "model_id": "",
       "version_major": 2,
       "version_minor": 0
      },
      "text/plain": [
       "HBox(children=(HTML(value=''), FloatProgress(value=0.0, max=3.0), HTML(value='')))"
      ]
     },
     "metadata": {},
     "output_type": "display_data"
    },
    {
     "data": {
      "application/vnd.jupyter.widget-view+json": {
       "model_id": "",
       "version_major": 2,
       "version_minor": 0
      },
      "text/plain": [
       "HBox(children=(HTML(value=''), FloatProgress(value=0.0, max=1.0), HTML(value='')))"
      ]
     },
     "metadata": {},
     "output_type": "display_data"
    },
    {
     "data": {
      "application/vnd.jupyter.widget-view+json": {
       "model_id": "",
       "version_major": 2,
       "version_minor": 0
      },
      "text/plain": [
       "HBox(children=(HTML(value=''), FloatProgress(value=0.0, max=1.0), HTML(value='')))"
      ]
     },
     "metadata": {},
     "output_type": "display_data"
    },
    {
     "name": "stdout",
     "output_type": "stream",
     "text": [
      "0.8417599028123399\n",
      "\n"
     ]
    }
   ],
   "source": [
    "dfs_mpe10s = multi_ensemble(df_full_valid, samp_savenames, True, batch_size=64)\n",
    "df_p10s = prob_ensemble(dfs_mpe10s)\n",
    "#df_p10s.sort_index().to_csv('save/preds/Pens_Smodel_test_TTA10.csv')"
   ]
  },
  {
   "cell_type": "code",
   "execution_count": null,
   "metadata": {},
   "outputs": [],
   "source": []
  },
  {
   "cell_type": "code",
   "execution_count": 20,
   "metadata": {},
   "outputs": [],
   "source": []
  },
  {
   "cell_type": "code",
   "execution_count": 60,
   "metadata": {},
   "outputs": [
    {
     "data": {
      "text/html": [
       "<div>\n",
       "<style scoped>\n",
       "    .dataframe tbody tr th:only-of-type {\n",
       "        vertical-align: middle;\n",
       "    }\n",
       "\n",
       "    .dataframe tbody tr th {\n",
       "        vertical-align: top;\n",
       "    }\n",
       "\n",
       "    .dataframe thead th {\n",
       "        text-align: right;\n",
       "    }\n",
       "</style>\n",
       "<table border=\"1\" class=\"dataframe\">\n",
       "  <thead>\n",
       "    <tr style=\"text-align: right;\">\n",
       "      <th></th>\n",
       "      <th>No_Finding</th>\n",
       "      <th>Enlarged_Cardiomediastinum</th>\n",
       "      <th>Cardiomegaly</th>\n",
       "      <th>Lung_Opacity</th>\n",
       "      <th>Lung_Lesion</th>\n",
       "      <th>Edema</th>\n",
       "      <th>Consolidation</th>\n",
       "      <th>Pneumonia</th>\n",
       "      <th>Atelectasis</th>\n",
       "      <th>Pneumothorax</th>\n",
       "      <th>Pleural_Effusion</th>\n",
       "      <th>Pleural_Other</th>\n",
       "      <th>Support_Devices</th>\n",
       "      <th>mean13</th>\n",
       "      <th>mean5</th>\n",
       "    </tr>\n",
       "  </thead>\n",
       "  <tbody>\n",
       "    <tr>\n",
       "      <th>pens_tta10</th>\n",
       "      <td>0.871912</td>\n",
       "      <td>0.530202</td>\n",
       "      <td>0.786942</td>\n",
       "      <td>0.887272</td>\n",
       "      <td>0.832618</td>\n",
       "      <td>0.902175</td>\n",
       "      <td>0.891904</td>\n",
       "      <td>0.792035</td>\n",
       "      <td>0.811607</td>\n",
       "      <td>0.65542</td>\n",
       "      <td>0.9016</td>\n",
       "      <td>0.793991</td>\n",
       "      <td>0.834425</td>\n",
       "      <td>0.807085</td>\n",
       "      <td>0.858846</td>\n",
       "    </tr>\n",
       "  </tbody>\n",
       "</table>\n",
       "</div>"
      ],
      "text/plain": [
       "            No_Finding  Enlarged_Cardiomediastinum  Cardiomegaly  \\\n",
       "pens_tta10    0.871912                    0.530202      0.786942   \n",
       "\n",
       "            Lung_Opacity  Lung_Lesion     Edema  Consolidation  Pneumonia  \\\n",
       "pens_tta10      0.887272     0.832618  0.902175       0.891904   0.792035   \n",
       "\n",
       "            Atelectasis  Pneumothorax  Pleural_Effusion  Pleural_Other  \\\n",
       "pens_tta10     0.811607       0.65542            0.9016       0.793991   \n",
       "\n",
       "            Support_Devices    mean13     mean5  \n",
       "pens_tta10         0.834425  0.807085  0.858846  "
      ]
     },
     "execution_count": 60,
     "metadata": {},
     "output_type": "execute_result"
    }
   ],
   "source": [
    "sd = classwise_rocauc(df_full_valid,df_p10,C.TARGET13_LABELS)\n",
    "pd.DataFrame(sd, index=['pens_tta10'])"
   ]
  },
  {
   "cell_type": "code",
   "execution_count": 57,
   "metadata": {},
   "outputs": [],
   "source": [
    "sd2 = classwise_rocauc(df_full_valid,df_p10s,C.TARGET13_LABELS)"
   ]
  },
  {
   "cell_type": "code",
   "execution_count": null,
   "metadata": {},
   "outputs": [],
   "source": [
    "base_model = CheXModel('densenet121',use_sig=True)\n",
    "df_ens = ensemble(base_model, full_savenames, test_loader_full, sigmoid=False, device=DEVICE)\n",
    "classwise_rocauc(df_full_valid,df_p10s,C.TARGET13_LABELS)"
   ]
  },
  {
   "cell_type": "code",
   "execution_count": 98,
   "metadata": {},
   "outputs": [
    {
     "data": {
      "text/html": [
       "<div>\n",
       "<style scoped>\n",
       "    .dataframe tbody tr th:only-of-type {\n",
       "        vertical-align: middle;\n",
       "    }\n",
       "\n",
       "    .dataframe tbody tr th {\n",
       "        vertical-align: top;\n",
       "    }\n",
       "\n",
       "    .dataframe thead th {\n",
       "        text-align: right;\n",
       "    }\n",
       "</style>\n",
       "<table border=\"1\" class=\"dataframe\">\n",
       "  <thead>\n",
       "    <tr style=\"text-align: right;\">\n",
       "      <th></th>\n",
       "      <th>Atelectasis</th>\n",
       "      <th>Cardiomegaly</th>\n",
       "      <th>Consolidation</th>\n",
       "      <th>Edema</th>\n",
       "      <th>Pleural_Effusion</th>\n",
       "      <th>mean5</th>\n",
       "    </tr>\n",
       "  </thead>\n",
       "  <tbody>\n",
       "    <tr>\n",
       "      <th>Fpens_tta10</th>\n",
       "      <td>0.811607</td>\n",
       "      <td>0.786942</td>\n",
       "      <td>0.891904</td>\n",
       "      <td>0.902175</td>\n",
       "      <td>0.901600</td>\n",
       "      <td>0.858846</td>\n",
       "    </tr>\n",
       "    <tr>\n",
       "      <th>Spens_tta10</th>\n",
       "      <td>0.818263</td>\n",
       "      <td>0.776045</td>\n",
       "      <td>0.897332</td>\n",
       "      <td>0.892534</td>\n",
       "      <td>0.881401</td>\n",
       "      <td>0.853115</td>\n",
       "    </tr>\n",
       "  </tbody>\n",
       "</table>\n",
       "</div>"
      ],
      "text/plain": [
       "             Atelectasis  Cardiomegaly  Consolidation     Edema  \\\n",
       "Fpens_tta10     0.811607      0.786942       0.891904  0.902175   \n",
       "Spens_tta10     0.818263      0.776045       0.897332  0.892534   \n",
       "\n",
       "             Pleural_Effusion     mean5  \n",
       "Fpens_tta10          0.901600  0.858846  \n",
       "Spens_tta10          0.881401  0.853115  "
      ]
     },
     "execution_count": 98,
     "metadata": {},
     "output_type": "execute_result"
    }
   ],
   "source": [
    "pd.DataFrame([sd,sd2], index=['Fpens_tta10','Spens_tta10'])[C.TARGET5_LABELS+['mean5']]"
   ]
  },
  {
   "cell_type": "code",
   "execution_count": 57,
   "metadata": {},
   "outputs": [
    {
     "data": {
      "text/plain": [
       "(0.854035443264744, 0.8602601524109655)"
      ]
     },
     "execution_count": 57,
     "metadata": {},
     "output_type": "execute_result"
    }
   ],
   "source": [
    "df_p10 = prob_ensemble(dfs_mpe10)\n",
    "fensauc = roc_auc_score(gt_labels, df_p10, average='micro', multi_class='ovo')\n",
    "fensauc5 = roc_auc_score(gt_labels[:,C.TARGET5_INDEX], df_p10.values[:,C.TARGET5_INDEX])\n",
    "fensauc,fensauc5"
   ]
  },
  {
   "cell_type": "code",
   "execution_count": 101,
   "metadata": {},
   "outputs": [],
   "source": [
    "preds = pd.read_csv('best_preds_08708.csv',index_col=0)"
   ]
  },
  {
   "cell_type": "code",
   "execution_count": 115,
   "metadata": {},
   "outputs": [
    {
     "data": {
      "text/html": [
       "<div>\n",
       "<style scoped>\n",
       "    .dataframe tbody tr th:only-of-type {\n",
       "        vertical-align: middle;\n",
       "    }\n",
       "\n",
       "    .dataframe tbody tr th {\n",
       "        vertical-align: top;\n",
       "    }\n",
       "\n",
       "    .dataframe thead th {\n",
       "        text-align: right;\n",
       "    }\n",
       "</style>\n",
       "<table border=\"1\" class=\"dataframe\">\n",
       "  <thead>\n",
       "    <tr style=\"text-align: right;\">\n",
       "      <th></th>\n",
       "      <th>Pop_ID</th>\n",
       "      <th>Posit_ID</th>\n",
       "      <th>Path</th>\n",
       "      <th>No_Finding</th>\n",
       "      <th>Enlarged_Cardiomediastinum</th>\n",
       "      <th>Cardiomegaly</th>\n",
       "      <th>Lung_Opacity</th>\n",
       "      <th>Lung_Lesion</th>\n",
       "      <th>Edema</th>\n",
       "      <th>Consolidation</th>\n",
       "      <th>Pneumonia</th>\n",
       "      <th>Atelectasis</th>\n",
       "      <th>Pneumothorax</th>\n",
       "      <th>Pleural_Effusion</th>\n",
       "      <th>Pleural_Other</th>\n",
       "      <th>Fracture</th>\n",
       "      <th>Support_Devices</th>\n",
       "    </tr>\n",
       "    <tr>\n",
       "      <th>CheX_Image_ID</th>\n",
       "      <th></th>\n",
       "      <th></th>\n",
       "      <th></th>\n",
       "      <th></th>\n",
       "      <th></th>\n",
       "      <th></th>\n",
       "      <th></th>\n",
       "      <th></th>\n",
       "      <th></th>\n",
       "      <th></th>\n",
       "      <th></th>\n",
       "      <th></th>\n",
       "      <th></th>\n",
       "      <th></th>\n",
       "      <th></th>\n",
       "      <th></th>\n",
       "      <th></th>\n",
       "    </tr>\n",
       "  </thead>\n",
       "  <tbody>\n",
       "    <tr>\n",
       "      <th>221462</th>\n",
       "      <td>2</td>\n",
       "      <td>1</td>\n",
       "      <td>CheXpert-v1.0-small/valid/patient64541/study1/...</td>\n",
       "      <td>0.0</td>\n",
       "      <td>1.0</td>\n",
       "      <td>1.0</td>\n",
       "      <td>1.0</td>\n",
       "      <td>0.0</td>\n",
       "      <td>0.0</td>\n",
       "      <td>0.0</td>\n",
       "      <td>0.0</td>\n",
       "      <td>0.0</td>\n",
       "      <td>0.0</td>\n",
       "      <td>0.0</td>\n",
       "      <td>0.0</td>\n",
       "      <td>0.0</td>\n",
       "      <td>0.0</td>\n",
       "    </tr>\n",
       "    <tr>\n",
       "      <th>221463</th>\n",
       "      <td>2</td>\n",
       "      <td>2</td>\n",
       "      <td>CheXpert-v1.0-small/valid/patient64542/study1/...</td>\n",
       "      <td>0.0</td>\n",
       "      <td>0.0</td>\n",
       "      <td>0.0</td>\n",
       "      <td>0.0</td>\n",
       "      <td>0.0</td>\n",
       "      <td>0.0</td>\n",
       "      <td>0.0</td>\n",
       "      <td>0.0</td>\n",
       "      <td>0.0</td>\n",
       "      <td>0.0</td>\n",
       "      <td>0.0</td>\n",
       "      <td>0.0</td>\n",
       "      <td>0.0</td>\n",
       "      <td>1.0</td>\n",
       "    </tr>\n",
       "    <tr>\n",
       "      <th>221464</th>\n",
       "      <td>2</td>\n",
       "      <td>3</td>\n",
       "      <td>CheXpert-v1.0-small/valid/patient64542/study1/...</td>\n",
       "      <td>0.0</td>\n",
       "      <td>0.0</td>\n",
       "      <td>0.0</td>\n",
       "      <td>0.0</td>\n",
       "      <td>0.0</td>\n",
       "      <td>0.0</td>\n",
       "      <td>0.0</td>\n",
       "      <td>0.0</td>\n",
       "      <td>0.0</td>\n",
       "      <td>0.0</td>\n",
       "      <td>0.0</td>\n",
       "      <td>0.0</td>\n",
       "      <td>0.0</td>\n",
       "      <td>1.0</td>\n",
       "    </tr>\n",
       "    <tr>\n",
       "      <th>221465</th>\n",
       "      <td>2</td>\n",
       "      <td>1</td>\n",
       "      <td>CheXpert-v1.0-small/valid/patient64543/study1/...</td>\n",
       "      <td>0.0</td>\n",
       "      <td>1.0</td>\n",
       "      <td>0.0</td>\n",
       "      <td>1.0</td>\n",
       "      <td>0.0</td>\n",
       "      <td>1.0</td>\n",
       "      <td>0.0</td>\n",
       "      <td>0.0</td>\n",
       "      <td>0.0</td>\n",
       "      <td>0.0</td>\n",
       "      <td>0.0</td>\n",
       "      <td>0.0</td>\n",
       "      <td>0.0</td>\n",
       "      <td>0.0</td>\n",
       "    </tr>\n",
       "    <tr>\n",
       "      <th>221466</th>\n",
       "      <td>2</td>\n",
       "      <td>1</td>\n",
       "      <td>CheXpert-v1.0-small/valid/patient64544/study1/...</td>\n",
       "      <td>1.0</td>\n",
       "      <td>0.0</td>\n",
       "      <td>0.0</td>\n",
       "      <td>0.0</td>\n",
       "      <td>0.0</td>\n",
       "      <td>0.0</td>\n",
       "      <td>0.0</td>\n",
       "      <td>0.0</td>\n",
       "      <td>0.0</td>\n",
       "      <td>0.0</td>\n",
       "      <td>0.0</td>\n",
       "      <td>0.0</td>\n",
       "      <td>0.0</td>\n",
       "      <td>0.0</td>\n",
       "    </tr>\n",
       "    <tr>\n",
       "      <th>...</th>\n",
       "      <td>...</td>\n",
       "      <td>...</td>\n",
       "      <td>...</td>\n",
       "      <td>...</td>\n",
       "      <td>...</td>\n",
       "      <td>...</td>\n",
       "      <td>...</td>\n",
       "      <td>...</td>\n",
       "      <td>...</td>\n",
       "      <td>...</td>\n",
       "      <td>...</td>\n",
       "      <td>...</td>\n",
       "      <td>...</td>\n",
       "      <td>...</td>\n",
       "      <td>...</td>\n",
       "      <td>...</td>\n",
       "      <td>...</td>\n",
       "    </tr>\n",
       "    <tr>\n",
       "      <th>221691</th>\n",
       "      <td>2</td>\n",
       "      <td>1</td>\n",
       "      <td>CheXpert-v1.0-small/valid/patient64736/study1/...</td>\n",
       "      <td>0.0</td>\n",
       "      <td>0.0</td>\n",
       "      <td>0.0</td>\n",
       "      <td>0.0</td>\n",
       "      <td>0.0</td>\n",
       "      <td>0.0</td>\n",
       "      <td>0.0</td>\n",
       "      <td>0.0</td>\n",
       "      <td>0.0</td>\n",
       "      <td>0.0</td>\n",
       "      <td>0.0</td>\n",
       "      <td>0.0</td>\n",
       "      <td>0.0</td>\n",
       "      <td>1.0</td>\n",
       "    </tr>\n",
       "    <tr>\n",
       "      <th>221692</th>\n",
       "      <td>2</td>\n",
       "      <td>1</td>\n",
       "      <td>CheXpert-v1.0-small/valid/patient64737/study1/...</td>\n",
       "      <td>0.0</td>\n",
       "      <td>0.0</td>\n",
       "      <td>0.0</td>\n",
       "      <td>0.0</td>\n",
       "      <td>0.0</td>\n",
       "      <td>0.0</td>\n",
       "      <td>0.0</td>\n",
       "      <td>0.0</td>\n",
       "      <td>0.0</td>\n",
       "      <td>0.0</td>\n",
       "      <td>0.0</td>\n",
       "      <td>0.0</td>\n",
       "      <td>0.0</td>\n",
       "      <td>1.0</td>\n",
       "    </tr>\n",
       "    <tr>\n",
       "      <th>221693</th>\n",
       "      <td>2</td>\n",
       "      <td>1</td>\n",
       "      <td>CheXpert-v1.0-small/valid/patient64738/study1/...</td>\n",
       "      <td>0.0</td>\n",
       "      <td>1.0</td>\n",
       "      <td>1.0</td>\n",
       "      <td>1.0</td>\n",
       "      <td>0.0</td>\n",
       "      <td>1.0</td>\n",
       "      <td>0.0</td>\n",
       "      <td>0.0</td>\n",
       "      <td>0.0</td>\n",
       "      <td>0.0</td>\n",
       "      <td>0.0</td>\n",
       "      <td>0.0</td>\n",
       "      <td>0.0</td>\n",
       "      <td>1.0</td>\n",
       "    </tr>\n",
       "    <tr>\n",
       "      <th>221694</th>\n",
       "      <td>2</td>\n",
       "      <td>1</td>\n",
       "      <td>CheXpert-v1.0-small/valid/patient64739/study1/...</td>\n",
       "      <td>0.0</td>\n",
       "      <td>1.0</td>\n",
       "      <td>0.0</td>\n",
       "      <td>0.0</td>\n",
       "      <td>0.0</td>\n",
       "      <td>0.0</td>\n",
       "      <td>0.0</td>\n",
       "      <td>0.0</td>\n",
       "      <td>0.0</td>\n",
       "      <td>0.0</td>\n",
       "      <td>0.0</td>\n",
       "      <td>0.0</td>\n",
       "      <td>0.0</td>\n",
       "      <td>0.0</td>\n",
       "    </tr>\n",
       "    <tr>\n",
       "      <th>221695</th>\n",
       "      <td>2</td>\n",
       "      <td>1</td>\n",
       "      <td>CheXpert-v1.0-small/valid/patient64740/study1/...</td>\n",
       "      <td>0.0</td>\n",
       "      <td>1.0</td>\n",
       "      <td>0.0</td>\n",
       "      <td>1.0</td>\n",
       "      <td>0.0</td>\n",
       "      <td>0.0</td>\n",
       "      <td>0.0</td>\n",
       "      <td>0.0</td>\n",
       "      <td>1.0</td>\n",
       "      <td>0.0</td>\n",
       "      <td>1.0</td>\n",
       "      <td>0.0</td>\n",
       "      <td>0.0</td>\n",
       "      <td>0.0</td>\n",
       "    </tr>\n",
       "  </tbody>\n",
       "</table>\n",
       "<p>234 rows × 17 columns</p>\n",
       "</div>"
      ],
      "text/plain": [
       "               Pop_ID  Posit_ID  \\\n",
       "CheX_Image_ID                     \n",
       "221462              2         1   \n",
       "221463              2         2   \n",
       "221464              2         3   \n",
       "221465              2         1   \n",
       "221466              2         1   \n",
       "...               ...       ...   \n",
       "221691              2         1   \n",
       "221692              2         1   \n",
       "221693              2         1   \n",
       "221694              2         1   \n",
       "221695              2         1   \n",
       "\n",
       "                                                            Path  No_Finding  \\\n",
       "CheX_Image_ID                                                                  \n",
       "221462         CheXpert-v1.0-small/valid/patient64541/study1/...         0.0   \n",
       "221463         CheXpert-v1.0-small/valid/patient64542/study1/...         0.0   \n",
       "221464         CheXpert-v1.0-small/valid/patient64542/study1/...         0.0   \n",
       "221465         CheXpert-v1.0-small/valid/patient64543/study1/...         0.0   \n",
       "221466         CheXpert-v1.0-small/valid/patient64544/study1/...         1.0   \n",
       "...                                                          ...         ...   \n",
       "221691         CheXpert-v1.0-small/valid/patient64736/study1/...         0.0   \n",
       "221692         CheXpert-v1.0-small/valid/patient64737/study1/...         0.0   \n",
       "221693         CheXpert-v1.0-small/valid/patient64738/study1/...         0.0   \n",
       "221694         CheXpert-v1.0-small/valid/patient64739/study1/...         0.0   \n",
       "221695         CheXpert-v1.0-small/valid/patient64740/study1/...         0.0   \n",
       "\n",
       "               Enlarged_Cardiomediastinum  Cardiomegaly  Lung_Opacity  \\\n",
       "CheX_Image_ID                                                           \n",
       "221462                                1.0           1.0           1.0   \n",
       "221463                                0.0           0.0           0.0   \n",
       "221464                                0.0           0.0           0.0   \n",
       "221465                                1.0           0.0           1.0   \n",
       "221466                                0.0           0.0           0.0   \n",
       "...                                   ...           ...           ...   \n",
       "221691                                0.0           0.0           0.0   \n",
       "221692                                0.0           0.0           0.0   \n",
       "221693                                1.0           1.0           1.0   \n",
       "221694                                1.0           0.0           0.0   \n",
       "221695                                1.0           0.0           1.0   \n",
       "\n",
       "               Lung_Lesion  Edema  Consolidation  Pneumonia  Atelectasis  \\\n",
       "CheX_Image_ID                                                              \n",
       "221462                 0.0    0.0            0.0        0.0          0.0   \n",
       "221463                 0.0    0.0            0.0        0.0          0.0   \n",
       "221464                 0.0    0.0            0.0        0.0          0.0   \n",
       "221465                 0.0    1.0            0.0        0.0          0.0   \n",
       "221466                 0.0    0.0            0.0        0.0          0.0   \n",
       "...                    ...    ...            ...        ...          ...   \n",
       "221691                 0.0    0.0            0.0        0.0          0.0   \n",
       "221692                 0.0    0.0            0.0        0.0          0.0   \n",
       "221693                 0.0    1.0            0.0        0.0          0.0   \n",
       "221694                 0.0    0.0            0.0        0.0          0.0   \n",
       "221695                 0.0    0.0            0.0        0.0          1.0   \n",
       "\n",
       "               Pneumothorax  Pleural_Effusion  Pleural_Other  Fracture  \\\n",
       "CheX_Image_ID                                                            \n",
       "221462                  0.0               0.0            0.0       0.0   \n",
       "221463                  0.0               0.0            0.0       0.0   \n",
       "221464                  0.0               0.0            0.0       0.0   \n",
       "221465                  0.0               0.0            0.0       0.0   \n",
       "221466                  0.0               0.0            0.0       0.0   \n",
       "...                     ...               ...            ...       ...   \n",
       "221691                  0.0               0.0            0.0       0.0   \n",
       "221692                  0.0               0.0            0.0       0.0   \n",
       "221693                  0.0               0.0            0.0       0.0   \n",
       "221694                  0.0               0.0            0.0       0.0   \n",
       "221695                  0.0               1.0            0.0       0.0   \n",
       "\n",
       "               Support_Devices  \n",
       "CheX_Image_ID                   \n",
       "221462                     0.0  \n",
       "221463                     1.0  \n",
       "221464                     1.0  \n",
       "221465                     0.0  \n",
       "221466                     0.0  \n",
       "...                        ...  \n",
       "221691                     1.0  \n",
       "221692                     1.0  \n",
       "221693                     1.0  \n",
       "221694                     0.0  \n",
       "221695                     0.0  \n",
       "\n",
       "[234 rows x 17 columns]"
      ]
     },
     "execution_count": 115,
     "metadata": {},
     "output_type": "execute_result"
    }
   ],
   "source": [
    "df_full_valid.sort_values('Path')"
   ]
  },
  {
   "cell_type": "code",
   "execution_count": 119,
   "metadata": {},
   "outputs": [],
   "source": [
    "preds = preds.sort_values('Path').set_index(df_full_valid.sort_values('Path').index)"
   ]
  },
  {
   "cell_type": "code",
   "execution_count": 120,
   "metadata": {},
   "outputs": [],
   "source": [
    "predval = preds[C.TARGET_LABELS].values"
   ]
  },
  {
   "cell_type": "code",
   "execution_count": 121,
   "metadata": {},
   "outputs": [],
   "source": [
    "gtlabels = df_full_valid.sort_values('Path')[C.TARGET_LABELS].values"
   ]
  },
  {
   "cell_type": "code",
   "execution_count": 122,
   "metadata": {},
   "outputs": [],
   "source": [
    "from chex.plotting import plot_roc"
   ]
  },
  {
   "cell_type": "code",
   "execution_count": 125,
   "metadata": {},
   "outputs": [
    {
     "data": {
      "image/png": "[encoded data removed]",
      "text/plain": [
       "<Figure size 576x432 with 1 Axes>"
      ]
     },
     "metadata": {
      "needs_background": "light"
     },
     "output_type": "display_data"
    }
   ],
   "source": [
    "plot_roc(gtlabels, predval, C.TARGET5_INDEX, title_end='(Replicated Densenet121 10 TTA)')"
   ]
  },
  {
   "cell_type": "code",
   "execution_count": 126,
   "metadata": {},
   "outputs": [
    {
     "data": {
      "text/plain": [
       "0.8599999999999999"
      ]
     },
     "execution_count": 126,
     "metadata": {},
     "output_type": "execute_result"
    }
   ],
   "source": [
    "np.mean([0.814,0.788,0.895,0.901,0.904,0.858])"
   ]
  },
  {
   "cell_type": "code",
   "execution_count": 103,
   "metadata": {},
   "outputs": [
    {
     "data": {
      "text/html": [
       "<div>\n",
       "<style scoped>\n",
       "    .dataframe tbody tr th:only-of-type {\n",
       "        vertical-align: middle;\n",
       "    }\n",
       "\n",
       "    .dataframe tbody tr th {\n",
       "        vertical-align: top;\n",
       "    }\n",
       "\n",
       "    .dataframe thead th {\n",
       "        text-align: right;\n",
       "    }\n",
       "</style>\n",
       "<table border=\"1\" class=\"dataframe\">\n",
       "  <thead>\n",
       "    <tr style=\"text-align: right;\">\n",
       "      <th></th>\n",
       "      <th>No_Finding</th>\n",
       "      <th>Enlarged_Cardiomediastinum</th>\n",
       "      <th>Cardiomegaly</th>\n",
       "      <th>Lung_Opacity</th>\n",
       "      <th>Lung_Lesion</th>\n",
       "      <th>Edema</th>\n",
       "      <th>Consolidation</th>\n",
       "      <th>Pneumonia</th>\n",
       "      <th>Atelectasis</th>\n",
       "      <th>Pneumothorax</th>\n",
       "      <th>Pleural_Effusion</th>\n",
       "      <th>Pleural_Other</th>\n",
       "      <th>Fracture</th>\n",
       "      <th>Support_Devices</th>\n",
       "    </tr>\n",
       "    <tr>\n",
       "      <th>CheX_Image_ID</th>\n",
       "      <th></th>\n",
       "      <th></th>\n",
       "      <th></th>\n",
       "      <th></th>\n",
       "      <th></th>\n",
       "      <th></th>\n",
       "      <th></th>\n",
       "      <th></th>\n",
       "      <th></th>\n",
       "      <th></th>\n",
       "      <th></th>\n",
       "      <th></th>\n",
       "      <th></th>\n",
       "      <th></th>\n",
       "    </tr>\n",
       "  </thead>\n",
       "  <tbody>\n",
       "    <tr>\n",
       "      <th>221521</th>\n",
       "      <td>0.0</td>\n",
       "      <td>1.0</td>\n",
       "      <td>1.0</td>\n",
       "      <td>0.0</td>\n",
       "      <td>0.0</td>\n",
       "      <td>0.0</td>\n",
       "      <td>0.0</td>\n",
       "      <td>0.0</td>\n",
       "      <td>0.0</td>\n",
       "      <td>0.0</td>\n",
       "      <td>0.0</td>\n",
       "      <td>0.0</td>\n",
       "      <td>0.0</td>\n",
       "      <td>0.0</td>\n",
       "    </tr>\n",
       "    <tr>\n",
       "      <th>221477</th>\n",
       "      <td>0.0</td>\n",
       "      <td>1.0</td>\n",
       "      <td>1.0</td>\n",
       "      <td>1.0</td>\n",
       "      <td>0.0</td>\n",
       "      <td>1.0</td>\n",
       "      <td>1.0</td>\n",
       "      <td>1.0</td>\n",
       "      <td>1.0</td>\n",
       "      <td>0.0</td>\n",
       "      <td>1.0</td>\n",
       "      <td>0.0</td>\n",
       "      <td>0.0</td>\n",
       "      <td>0.0</td>\n",
       "    </tr>\n",
       "    <tr>\n",
       "      <th>221663</th>\n",
       "      <td>0.0</td>\n",
       "      <td>1.0</td>\n",
       "      <td>0.0</td>\n",
       "      <td>0.0</td>\n",
       "      <td>0.0</td>\n",
       "      <td>0.0</td>\n",
       "      <td>0.0</td>\n",
       "      <td>0.0</td>\n",
       "      <td>0.0</td>\n",
       "      <td>0.0</td>\n",
       "      <td>0.0</td>\n",
       "      <td>0.0</td>\n",
       "      <td>0.0</td>\n",
       "      <td>0.0</td>\n",
       "    </tr>\n",
       "    <tr>\n",
       "      <th>221472</th>\n",
       "      <td>0.0</td>\n",
       "      <td>1.0</td>\n",
       "      <td>1.0</td>\n",
       "      <td>1.0</td>\n",
       "      <td>0.0</td>\n",
       "      <td>0.0</td>\n",
       "      <td>1.0</td>\n",
       "      <td>1.0</td>\n",
       "      <td>1.0</td>\n",
       "      <td>0.0</td>\n",
       "      <td>1.0</td>\n",
       "      <td>0.0</td>\n",
       "      <td>0.0</td>\n",
       "      <td>0.0</td>\n",
       "    </tr>\n",
       "    <tr>\n",
       "      <th>221695</th>\n",
       "      <td>0.0</td>\n",
       "      <td>1.0</td>\n",
       "      <td>0.0</td>\n",
       "      <td>1.0</td>\n",
       "      <td>0.0</td>\n",
       "      <td>0.0</td>\n",
       "      <td>0.0</td>\n",
       "      <td>0.0</td>\n",
       "      <td>1.0</td>\n",
       "      <td>0.0</td>\n",
       "      <td>1.0</td>\n",
       "      <td>0.0</td>\n",
       "      <td>0.0</td>\n",
       "      <td>0.0</td>\n",
       "    </tr>\n",
       "    <tr>\n",
       "      <th>...</th>\n",
       "      <td>...</td>\n",
       "      <td>...</td>\n",
       "      <td>...</td>\n",
       "      <td>...</td>\n",
       "      <td>...</td>\n",
       "      <td>...</td>\n",
       "      <td>...</td>\n",
       "      <td>...</td>\n",
       "      <td>...</td>\n",
       "      <td>...</td>\n",
       "      <td>...</td>\n",
       "      <td>...</td>\n",
       "      <td>...</td>\n",
       "      <td>...</td>\n",
       "    </tr>\n",
       "    <tr>\n",
       "      <th>221577</th>\n",
       "      <td>1.0</td>\n",
       "      <td>0.0</td>\n",
       "      <td>0.0</td>\n",
       "      <td>0.0</td>\n",
       "      <td>0.0</td>\n",
       "      <td>0.0</td>\n",
       "      <td>0.0</td>\n",
       "      <td>0.0</td>\n",
       "      <td>0.0</td>\n",
       "      <td>0.0</td>\n",
       "      <td>0.0</td>\n",
       "      <td>0.0</td>\n",
       "      <td>0.0</td>\n",
       "      <td>0.0</td>\n",
       "    </tr>\n",
       "    <tr>\n",
       "      <th>221657</th>\n",
       "      <td>0.0</td>\n",
       "      <td>0.0</td>\n",
       "      <td>0.0</td>\n",
       "      <td>1.0</td>\n",
       "      <td>0.0</td>\n",
       "      <td>0.0</td>\n",
       "      <td>1.0</td>\n",
       "      <td>0.0</td>\n",
       "      <td>1.0</td>\n",
       "      <td>0.0</td>\n",
       "      <td>1.0</td>\n",
       "      <td>0.0</td>\n",
       "      <td>0.0</td>\n",
       "      <td>1.0</td>\n",
       "    </tr>\n",
       "    <tr>\n",
       "      <th>221574</th>\n",
       "      <td>0.0</td>\n",
       "      <td>1.0</td>\n",
       "      <td>1.0</td>\n",
       "      <td>1.0</td>\n",
       "      <td>0.0</td>\n",
       "      <td>1.0</td>\n",
       "      <td>1.0</td>\n",
       "      <td>0.0</td>\n",
       "      <td>1.0</td>\n",
       "      <td>0.0</td>\n",
       "      <td>1.0</td>\n",
       "      <td>0.0</td>\n",
       "      <td>0.0</td>\n",
       "      <td>1.0</td>\n",
       "    </tr>\n",
       "    <tr>\n",
       "      <th>221652</th>\n",
       "      <td>0.0</td>\n",
       "      <td>1.0</td>\n",
       "      <td>1.0</td>\n",
       "      <td>1.0</td>\n",
       "      <td>0.0</td>\n",
       "      <td>1.0</td>\n",
       "      <td>0.0</td>\n",
       "      <td>0.0</td>\n",
       "      <td>0.0</td>\n",
       "      <td>0.0</td>\n",
       "      <td>0.0</td>\n",
       "      <td>0.0</td>\n",
       "      <td>0.0</td>\n",
       "      <td>0.0</td>\n",
       "    </tr>\n",
       "    <tr>\n",
       "      <th>221672</th>\n",
       "      <td>0.0</td>\n",
       "      <td>1.0</td>\n",
       "      <td>1.0</td>\n",
       "      <td>1.0</td>\n",
       "      <td>0.0</td>\n",
       "      <td>1.0</td>\n",
       "      <td>1.0</td>\n",
       "      <td>0.0</td>\n",
       "      <td>1.0</td>\n",
       "      <td>0.0</td>\n",
       "      <td>0.0</td>\n",
       "      <td>0.0</td>\n",
       "      <td>0.0</td>\n",
       "      <td>1.0</td>\n",
       "    </tr>\n",
       "  </tbody>\n",
       "</table>\n",
       "<p>234 rows × 14 columns</p>\n",
       "</div>"
      ],
      "text/plain": [
       "               No_Finding  Enlarged_Cardiomediastinum  Cardiomegaly  \\\n",
       "CheX_Image_ID                                                         \n",
       "221521                0.0                         1.0           1.0   \n",
       "221477                0.0                         1.0           1.0   \n",
       "221663                0.0                         1.0           0.0   \n",
       "221472                0.0                         1.0           1.0   \n",
       "221695                0.0                         1.0           0.0   \n",
       "...                   ...                         ...           ...   \n",
       "221577                1.0                         0.0           0.0   \n",
       "221657                0.0                         0.0           0.0   \n",
       "221574                0.0                         1.0           1.0   \n",
       "221652                0.0                         1.0           1.0   \n",
       "221672                0.0                         1.0           1.0   \n",
       "\n",
       "               Lung_Opacity  Lung_Lesion  Edema  Consolidation  Pneumonia  \\\n",
       "CheX_Image_ID                                                               \n",
       "221521                  0.0          0.0    0.0            0.0        0.0   \n",
       "221477                  1.0          0.0    1.0            1.0        1.0   \n",
       "221663                  0.0          0.0    0.0            0.0        0.0   \n",
       "221472                  1.0          0.0    0.0            1.0        1.0   \n",
       "221695                  1.0          0.0    0.0            0.0        0.0   \n",
       "...                     ...          ...    ...            ...        ...   \n",
       "221577                  0.0          0.0    0.0            0.0        0.0   \n",
       "221657                  1.0          0.0    0.0            1.0        0.0   \n",
       "221574                  1.0          0.0    1.0            1.0        0.0   \n",
       "221652                  1.0          0.0    1.0            0.0        0.0   \n",
       "221672                  1.0          0.0    1.0            1.0        0.0   \n",
       "\n",
       "               Atelectasis  Pneumothorax  Pleural_Effusion  Pleural_Other  \\\n",
       "CheX_Image_ID                                                               \n",
       "221521                 0.0           0.0               0.0            0.0   \n",
       "221477                 1.0           0.0               1.0            0.0   \n",
       "221663                 0.0           0.0               0.0            0.0   \n",
       "221472                 1.0           0.0               1.0            0.0   \n",
       "221695                 1.0           0.0               1.0            0.0   \n",
       "...                    ...           ...               ...            ...   \n",
       "221577                 0.0           0.0               0.0            0.0   \n",
       "221657                 1.0           0.0               1.0            0.0   \n",
       "221574                 1.0           0.0               1.0            0.0   \n",
       "221652                 0.0           0.0               0.0            0.0   \n",
       "221672                 1.0           0.0               0.0            0.0   \n",
       "\n",
       "               Fracture  Support_Devices  \n",
       "CheX_Image_ID                             \n",
       "221521              0.0              0.0  \n",
       "221477              0.0              0.0  \n",
       "221663              0.0              0.0  \n",
       "221472              0.0              0.0  \n",
       "221695              0.0              0.0  \n",
       "...                 ...              ...  \n",
       "221577              0.0              0.0  \n",
       "221657              0.0              1.0  \n",
       "221574              0.0              1.0  \n",
       "221652              0.0              0.0  \n",
       "221672              0.0              1.0  \n",
       "\n",
       "[234 rows x 14 columns]"
      ]
     },
     "execution_count": 103,
     "metadata": {},
     "output_type": "execute_result"
    }
   ],
   "source": [
    "df_full_valid[C.TARGET_LABELS]"
   ]
  },
  {
   "cell_type": "code",
   "execution_count": 113,
   "metadata": {
    "scrolled": true
   },
   "outputs": [
    {
     "data": {
      "image/png": "[encoded data removed]",
      "text/plain": [
       "<Figure size 576x432 with 1 Axes>"
      ]
     },
     "metadata": {
      "needs_background": "light"
     },
     "output_type": "display_data"
    }
   ],
   "source": [
    "plot_roc(gt_labels, df_p10.values, C.TARGET5_INDEX, title_end='(Psudeo-Ensemble 10 TTA)')"
   ]
  },
  {
   "cell_type": "markdown",
   "metadata": {},
   "source": [
    "## Save Predictions"
   ]
  },
  {
   "cell_type": "markdown",
   "metadata": {},
   "source": [
    "output the test/validation results(just image ID and 14 fields with probabilities) to 6 files (3 models x 2 pops)"
   ]
  },
  {
   "cell_type": "code",
   "execution_count": 10,
   "metadata": {},
   "outputs": [],
   "source": []
  },
  {
   "cell_type": "code",
   "execution_count": 19,
   "metadata": {},
   "outputs": [],
   "source": [
    "samp_savenames=['dn121_AP_72k_5e_chkpnt', 'dn121_PA_13k_5e_chkpnt', 'dn121_LL_14k_5e_chkpnt']\n",
    "full_savenames=['dn121_AP_160k_5efull_chkpnt', 'dn121_PA_29k_5efull_chkpnt', 'dn121_LL_32k_5efull_chkpnt']"
   ]
  },
  {
   "cell_type": "code",
   "execution_count": 22,
   "metadata": {},
   "outputs": [],
   "source": [
    "gidmap = {1:'AP', 2:'PA', 3:'LL'}\n",
    "idgmap = {v:k for k,v in gidmap.items()}"
   ]
  },
  {
   "cell_type": "code",
   "execution_count": 29,
   "metadata": {},
   "outputs": [],
   "source": [
    "def save_predictions(checkpoints, df, mdl_prefix='S', outdir=C.SAVE_PATH/'preds/'):\n",
    "    dset = 'test' if len(df) == 234 else 'valid'\n",
    "    for chkpnt in checkpoints: #enumerate(samp_savenames,1):\n",
    "        projtype = chkpnt.split('_')[1] # BRITTLE\n",
    "        projnum = idgmap[projtype]\n",
    "        valid_loader = subset_dloader(df, projnum, False, 'Posit_ID', batch_size=64, print_tfms=False)\n",
    "        base_model = CheXModel('densenet121',use_sig=True)\n",
    "        df_pred = load_predict(base_model, chkpnt, valid_loader, False, DEVICE)\n",
    "        outpath=outdir/f'{projnum}{projtype}_{mdl_prefix}model_{dset}.csv'\n",
    "        df_pred.to_csv(outpath)\n",
    "        print('Predictions saved to:',outpath.as_posix())"
   ]
  },
  {
   "cell_type": "code",
   "execution_count": 26,
   "metadata": {},
   "outputs": [
    {
     "data": {
      "application/vnd.jupyter.widget-view+json": {
       "model_id": "",
       "version_major": 2,
       "version_minor": 0
      },
      "text/plain": [
       "HBox(children=(HTML(value=''), FloatProgress(value=0.0, max=98.0), HTML(value='')))"
      ]
     },
     "metadata": {},
     "output_type": "display_data"
    },
    {
     "name": "stdout",
     "output_type": "stream",
     "text": [
      "Predictions saved to: save\\preds\\3LL_Smodel_Svalid.csv\n"
     ]
    }
   ],
   "source": [
    "save_predictions(['dn121_LL_14k_5e_chkpnt'], df_valid, 'S')"
   ]
  },
  {
   "cell_type": "code",
   "execution_count": 30,
   "metadata": {},
   "outputs": [
    {
     "data": {
      "application/vnd.jupyter.widget-view+json": {
       "model_id": "",
       "version_major": 2,
       "version_minor": 0
      },
      "text/plain": [
       "HBox(children=(HTML(value=''), FloatProgress(value=0.0, max=3.0), HTML(value='')))"
      ]
     },
     "metadata": {},
     "output_type": "display_data"
    },
    {
     "name": "stdout",
     "output_type": "stream",
     "text": [
      "Predictions saved to: save/preds/1AP_Smodel_test.csv\n"
     ]
    },
    {
     "data": {
      "application/vnd.jupyter.widget-view+json": {
       "model_id": "",
       "version_major": 2,
       "version_minor": 0
      },
      "text/plain": [
       "HBox(children=(HTML(value=''), FloatProgress(value=0.0, max=1.0), HTML(value='')))"
      ]
     },
     "metadata": {},
     "output_type": "display_data"
    },
    {
     "name": "stdout",
     "output_type": "stream",
     "text": [
      "Predictions saved to: save/preds/2PA_Smodel_test.csv\n"
     ]
    },
    {
     "data": {
      "application/vnd.jupyter.widget-view+json": {
       "model_id": "",
       "version_major": 2,
       "version_minor": 0
      },
      "text/plain": [
       "HBox(children=(HTML(value=''), FloatProgress(value=0.0, max=1.0), HTML(value='')))"
      ]
     },
     "metadata": {},
     "output_type": "display_data"
    },
    {
     "name": "stdout",
     "output_type": "stream",
     "text": [
      "Predictions saved to: save/preds/3LL_Smodel_test.csv\n"
     ]
    }
   ],
   "source": [
    "save_predictions(samp_savenames, df_full_valid, 'S')"
   ]
  },
  {
   "cell_type": "code",
   "execution_count": 31,
   "metadata": {},
   "outputs": [
    {
     "data": {
      "application/vnd.jupyter.widget-view+json": {
       "model_id": "",
       "version_major": 2,
       "version_minor": 0
      },
      "text/plain": [
       "HBox(children=(HTML(value=''), FloatProgress(value=0.0, max=3.0), HTML(value='')))"
      ]
     },
     "metadata": {},
     "output_type": "display_data"
    },
    {
     "name": "stdout",
     "output_type": "stream",
     "text": [
      "Predictions saved to: save/preds/1AP_Fmodel_test.csv\n"
     ]
    },
    {
     "data": {
      "application/vnd.jupyter.widget-view+json": {
       "model_id": "",
       "version_major": 2,
       "version_minor": 0
      },
      "text/plain": [
       "HBox(children=(HTML(value=''), FloatProgress(value=0.0, max=1.0), HTML(value='')))"
      ]
     },
     "metadata": {},
     "output_type": "display_data"
    },
    {
     "name": "stdout",
     "output_type": "stream",
     "text": [
      "Predictions saved to: save/preds/2PA_Fmodel_test.csv\n"
     ]
    },
    {
     "data": {
      "application/vnd.jupyter.widget-view+json": {
       "model_id": "",
       "version_major": 2,
       "version_minor": 0
      },
      "text/plain": [
       "HBox(children=(HTML(value=''), FloatProgress(value=0.0, max=1.0), HTML(value='')))"
      ]
     },
     "metadata": {},
     "output_type": "display_data"
    },
    {
     "name": "stdout",
     "output_type": "stream",
     "text": [
      "Predictions saved to: save/preds/3LL_Fmodel_test.csv\n"
     ]
    }
   ],
   "source": [
    "save_predictions(full_savenames, df_full_valid, 'F')"
   ]
  },
  {
   "cell_type": "code",
   "execution_count": 12,
   "metadata": {},
   "outputs": [],
   "source": [
    "torch.cuda.empty_cache()"
   ]
  },
  {
   "cell_type": "code",
   "execution_count": 15,
   "metadata": {},
   "outputs": [
    {
     "data": {
      "application/vnd.jupyter.widget-view+json": {
       "model_id": "",
       "version_major": 2,
       "version_minor": 0
      },
      "text/plain": [
       "HBox(children=(HTML(value=''), FloatProgress(value=0.0, max=4.0), HTML(value='')))"
      ]
     },
     "metadata": {},
     "output_type": "display_data"
    },
    {
     "data": {
      "text/html": [
       "<div>\n",
       "<style scoped>\n",
       "    .dataframe tbody tr th:only-of-type {\n",
       "        vertical-align: middle;\n",
       "    }\n",
       "\n",
       "    .dataframe tbody tr th {\n",
       "        vertical-align: top;\n",
       "    }\n",
       "\n",
       "    .dataframe thead th {\n",
       "        text-align: right;\n",
       "    }\n",
       "</style>\n",
       "<table border=\"1\" class=\"dataframe\">\n",
       "  <thead>\n",
       "    <tr style=\"text-align: right;\">\n",
       "      <th></th>\n",
       "      <th>No_Finding</th>\n",
       "      <th>Enlarged_Cardiomediastinum</th>\n",
       "      <th>Cardiomegaly</th>\n",
       "      <th>Lung_Opacity</th>\n",
       "      <th>Lung_Lesion</th>\n",
       "      <th>Edema</th>\n",
       "      <th>Consolidation</th>\n",
       "      <th>Pneumonia</th>\n",
       "      <th>Atelectasis</th>\n",
       "      <th>Pneumothorax</th>\n",
       "      <th>Pleural_Effusion</th>\n",
       "      <th>Pleural_Other</th>\n",
       "      <th>Fracture</th>\n",
       "      <th>Support_Devices</th>\n",
       "    </tr>\n",
       "    <tr>\n",
       "      <th>CheX_Image_ID</th>\n",
       "      <th></th>\n",
       "      <th></th>\n",
       "      <th></th>\n",
       "      <th></th>\n",
       "      <th></th>\n",
       "      <th></th>\n",
       "      <th></th>\n",
       "      <th></th>\n",
       "      <th></th>\n",
       "      <th></th>\n",
       "      <th></th>\n",
       "      <th></th>\n",
       "      <th></th>\n",
       "      <th></th>\n",
       "    </tr>\n",
       "  </thead>\n",
       "  <tbody>\n",
       "    <tr>\n",
       "      <th>221521</th>\n",
       "      <td>0.104796</td>\n",
       "      <td>0.075268</td>\n",
       "      <td>0.022913</td>\n",
       "      <td>0.476681</td>\n",
       "      <td>0.034007</td>\n",
       "      <td>0.110435</td>\n",
       "      <td>0.164598</td>\n",
       "      <td>0.082695</td>\n",
       "      <td>0.506512</td>\n",
       "      <td>0.008134</td>\n",
       "      <td>0.106398</td>\n",
       "      <td>0.005168</td>\n",
       "      <td>0.016802</td>\n",
       "      <td>0.180649</td>\n",
       "    </tr>\n",
       "    <tr>\n",
       "      <th>221477</th>\n",
       "      <td>0.004357</td>\n",
       "      <td>0.044968</td>\n",
       "      <td>0.311924</td>\n",
       "      <td>0.711060</td>\n",
       "      <td>0.073533</td>\n",
       "      <td>0.488229</td>\n",
       "      <td>0.338547</td>\n",
       "      <td>0.295615</td>\n",
       "      <td>0.234516</td>\n",
       "      <td>0.014023</td>\n",
       "      <td>0.660193</td>\n",
       "      <td>0.006169</td>\n",
       "      <td>0.007712</td>\n",
       "      <td>0.330380</td>\n",
       "    </tr>\n",
       "    <tr>\n",
       "      <th>221663</th>\n",
       "      <td>0.303721</td>\n",
       "      <td>0.082281</td>\n",
       "      <td>0.015360</td>\n",
       "      <td>0.305613</td>\n",
       "      <td>0.019218</td>\n",
       "      <td>0.022451</td>\n",
       "      <td>0.091206</td>\n",
       "      <td>0.043565</td>\n",
       "      <td>0.450262</td>\n",
       "      <td>0.008600</td>\n",
       "      <td>0.117926</td>\n",
       "      <td>0.013244</td>\n",
       "      <td>0.020257</td>\n",
       "      <td>0.186876</td>\n",
       "    </tr>\n",
       "    <tr>\n",
       "      <th>221472</th>\n",
       "      <td>0.009826</td>\n",
       "      <td>0.108892</td>\n",
       "      <td>0.245689</td>\n",
       "      <td>0.763321</td>\n",
       "      <td>0.007924</td>\n",
       "      <td>0.062615</td>\n",
       "      <td>0.371922</td>\n",
       "      <td>0.073546</td>\n",
       "      <td>0.516243</td>\n",
       "      <td>0.015172</td>\n",
       "      <td>0.622054</td>\n",
       "      <td>0.002544</td>\n",
       "      <td>0.015121</td>\n",
       "      <td>0.254098</td>\n",
       "    </tr>\n",
       "    <tr>\n",
       "      <th>221695</th>\n",
       "      <td>0.018843</td>\n",
       "      <td>0.219075</td>\n",
       "      <td>0.215010</td>\n",
       "      <td>0.476967</td>\n",
       "      <td>0.016662</td>\n",
       "      <td>0.069574</td>\n",
       "      <td>0.139528</td>\n",
       "      <td>0.027631</td>\n",
       "      <td>0.483861</td>\n",
       "      <td>0.038985</td>\n",
       "      <td>0.596106</td>\n",
       "      <td>0.025742</td>\n",
       "      <td>0.020577</td>\n",
       "      <td>0.381817</td>\n",
       "    </tr>\n",
       "    <tr>\n",
       "      <th>...</th>\n",
       "      <td>...</td>\n",
       "      <td>...</td>\n",
       "      <td>...</td>\n",
       "      <td>...</td>\n",
       "      <td>...</td>\n",
       "      <td>...</td>\n",
       "      <td>...</td>\n",
       "      <td>...</td>\n",
       "      <td>...</td>\n",
       "      <td>...</td>\n",
       "      <td>...</td>\n",
       "      <td>...</td>\n",
       "      <td>...</td>\n",
       "      <td>...</td>\n",
       "    </tr>\n",
       "    <tr>\n",
       "      <th>221577</th>\n",
       "      <td>0.199158</td>\n",
       "      <td>0.156848</td>\n",
       "      <td>0.349206</td>\n",
       "      <td>0.285091</td>\n",
       "      <td>0.035578</td>\n",
       "      <td>0.065136</td>\n",
       "      <td>0.052045</td>\n",
       "      <td>0.054654</td>\n",
       "      <td>0.158247</td>\n",
       "      <td>0.009695</td>\n",
       "      <td>0.043037</td>\n",
       "      <td>0.041365</td>\n",
       "      <td>0.053537</td>\n",
       "      <td>0.067739</td>\n",
       "    </tr>\n",
       "    <tr>\n",
       "      <th>221657</th>\n",
       "      <td>0.006589</td>\n",
       "      <td>0.029655</td>\n",
       "      <td>0.058253</td>\n",
       "      <td>0.704823</td>\n",
       "      <td>0.012082</td>\n",
       "      <td>0.568609</td>\n",
       "      <td>0.288505</td>\n",
       "      <td>0.180751</td>\n",
       "      <td>0.456954</td>\n",
       "      <td>0.006997</td>\n",
       "      <td>0.752935</td>\n",
       "      <td>0.002180</td>\n",
       "      <td>0.012499</td>\n",
       "      <td>0.656899</td>\n",
       "    </tr>\n",
       "    <tr>\n",
       "      <th>221574</th>\n",
       "      <td>0.010454</td>\n",
       "      <td>0.095300</td>\n",
       "      <td>0.037433</td>\n",
       "      <td>0.666701</td>\n",
       "      <td>0.004355</td>\n",
       "      <td>0.235224</td>\n",
       "      <td>0.250222</td>\n",
       "      <td>0.058353</td>\n",
       "      <td>0.573027</td>\n",
       "      <td>0.016673</td>\n",
       "      <td>0.769726</td>\n",
       "      <td>0.002397</td>\n",
       "      <td>0.023409</td>\n",
       "      <td>0.800672</td>\n",
       "    </tr>\n",
       "    <tr>\n",
       "      <th>221652</th>\n",
       "      <td>0.032254</td>\n",
       "      <td>0.129135</td>\n",
       "      <td>0.691097</td>\n",
       "      <td>0.472006</td>\n",
       "      <td>0.009653</td>\n",
       "      <td>0.703637</td>\n",
       "      <td>0.092274</td>\n",
       "      <td>0.098299</td>\n",
       "      <td>0.155531</td>\n",
       "      <td>0.018570</td>\n",
       "      <td>0.074470</td>\n",
       "      <td>0.009223</td>\n",
       "      <td>0.027112</td>\n",
       "      <td>0.318387</td>\n",
       "    </tr>\n",
       "    <tr>\n",
       "      <th>221672</th>\n",
       "      <td>0.004036</td>\n",
       "      <td>0.117264</td>\n",
       "      <td>0.524237</td>\n",
       "      <td>0.722194</td>\n",
       "      <td>0.014045</td>\n",
       "      <td>0.475263</td>\n",
       "      <td>0.223790</td>\n",
       "      <td>0.119363</td>\n",
       "      <td>0.300421</td>\n",
       "      <td>0.017878</td>\n",
       "      <td>0.632638</td>\n",
       "      <td>0.013218</td>\n",
       "      <td>0.010416</td>\n",
       "      <td>0.722758</td>\n",
       "    </tr>\n",
       "  </tbody>\n",
       "</table>\n",
       "<p>234 rows × 14 columns</p>\n",
       "</div>"
      ],
      "text/plain": [
       "               No_Finding  Enlarged_Cardiomediastinum  Cardiomegaly  \\\n",
       "CheX_Image_ID                                                         \n",
       "221521           0.104796                    0.075268      0.022913   \n",
       "221477           0.004357                    0.044968      0.311924   \n",
       "221663           0.303721                    0.082281      0.015360   \n",
       "221472           0.009826                    0.108892      0.245689   \n",
       "221695           0.018843                    0.219075      0.215010   \n",
       "...                   ...                         ...           ...   \n",
       "221577           0.199158                    0.156848      0.349206   \n",
       "221657           0.006589                    0.029655      0.058253   \n",
       "221574           0.010454                    0.095300      0.037433   \n",
       "221652           0.032254                    0.129135      0.691097   \n",
       "221672           0.004036                    0.117264      0.524237   \n",
       "\n",
       "               Lung_Opacity  Lung_Lesion     Edema  Consolidation  Pneumonia  \\\n",
       "CheX_Image_ID                                                                  \n",
       "221521             0.476681     0.034007  0.110435       0.164598   0.082695   \n",
       "221477             0.711060     0.073533  0.488229       0.338547   0.295615   \n",
       "221663             0.305613     0.019218  0.022451       0.091206   0.043565   \n",
       "221472             0.763321     0.007924  0.062615       0.371922   0.073546   \n",
       "221695             0.476967     0.016662  0.069574       0.139528   0.027631   \n",
       "...                     ...          ...       ...            ...        ...   \n",
       "221577             0.285091     0.035578  0.065136       0.052045   0.054654   \n",
       "221657             0.704823     0.012082  0.568609       0.288505   0.180751   \n",
       "221574             0.666701     0.004355  0.235224       0.250222   0.058353   \n",
       "221652             0.472006     0.009653  0.703637       0.092274   0.098299   \n",
       "221672             0.722194     0.014045  0.475263       0.223790   0.119363   \n",
       "\n",
       "               Atelectasis  Pneumothorax  Pleural_Effusion  Pleural_Other  \\\n",
       "CheX_Image_ID                                                               \n",
       "221521            0.506512      0.008134          0.106398       0.005168   \n",
       "221477            0.234516      0.014023          0.660193       0.006169   \n",
       "221663            0.450262      0.008600          0.117926       0.013244   \n",
       "221472            0.516243      0.015172          0.622054       0.002544   \n",
       "221695            0.483861      0.038985          0.596106       0.025742   \n",
       "...                    ...           ...               ...            ...   \n",
       "221577            0.158247      0.009695          0.043037       0.041365   \n",
       "221657            0.456954      0.006997          0.752935       0.002180   \n",
       "221574            0.573027      0.016673          0.769726       0.002397   \n",
       "221652            0.155531      0.018570          0.074470       0.009223   \n",
       "221672            0.300421      0.017878          0.632638       0.013218   \n",
       "\n",
       "               Fracture  Support_Devices  \n",
       "CheX_Image_ID                             \n",
       "221521         0.016802         0.180649  \n",
       "221477         0.007712         0.330380  \n",
       "221663         0.020257         0.186876  \n",
       "221472         0.015121         0.254098  \n",
       "221695         0.020577         0.381817  \n",
       "...                 ...              ...  \n",
       "221577         0.053537         0.067739  \n",
       "221657         0.012499         0.656899  \n",
       "221574         0.023409         0.800672  \n",
       "221652         0.027112         0.318387  \n",
       "221672         0.010416         0.722758  \n",
       "\n",
       "[234 rows x 14 columns]"
      ]
     },
     "execution_count": 15,
     "metadata": {},
     "output_type": "execute_result"
    }
   ],
   "source": [
    "test_loader = subset_dloader(df_full_valid, None, False, batch_size=64, print_tfms=False) \n",
    "base_model = CheXModel('densenet121',use_sig=True)\n",
    "df_preds = load_predict(base_model,'dn121_TSlr256bSig_99k_script_scalsamp_chkpnt',test_loader,device=DEVICE)\n",
    "df_preds.to_csv(C.SAVE_PATH/'preds/script_preds_Smodel_test.csv')\n",
    "classwise_rocauc(df_full_valid,df_preds, C.TARGET13_LABELS)"
   ]
  },
  {
   "cell_type": "code",
   "execution_count": 22,
   "metadata": {},
   "outputs": [],
   "source": []
  },
  {
   "cell_type": "code",
   "execution_count": null,
   "metadata": {},
   "outputs": [],
   "source": []
  }
 ],
 "metadata": {
  "kernelspec": {
   "display_name": "Python 3",
   "language": "python",
   "name": "python3"
  },
  "language_info": {
   "codemirror_mode": {
    "name": "ipython",
    "version": 3
   },
   "file_extension": ".py",
   "mimetype": "text/x-python",
   "name": "python",
   "nbconvert_exporter": "python",
   "pygments_lexer": "ipython3",
   "version": "3.7.1"
  }
 },
 "nbformat": 4,
 "nbformat_minor": 4
}
